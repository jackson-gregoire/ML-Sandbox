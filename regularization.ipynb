{
  "nbformat": 4,
  "nbformat_minor": 0,
  "metadata": {
    "colab": {
      "name": "regularization.ipynb",
      "provenance": []
    },
    "kernelspec": {
      "name": "python3",
      "display_name": "Python 3"
    },
    "language_info": {
      "name": "python"
    }
  },
  "cells": [
    {
      "cell_type": "code",
      "execution_count": null,
      "metadata": {
        "id": "STrMimQbhVea"
      },
      "outputs": [],
      "source": [
        "import numpy as np\n",
        "import matplotlib.pyplot as plt\n",
        "rng = np.random.default_rng()"
      ]
    },
    {
      "cell_type": "code",
      "source": [
        "n = 100\n",
        "X = rng.uniform(1, 10, size = n).reshape((-1, 1))\n",
        "y = X + rng.normal(0, 2, n).reshape((-1, 1))\n",
        "X = np.hstack((np.ones(shape = (X.shape[0], 1)), X)) # Add an intercept column to X\n",
        "#p = rng.permutation(len(X)) # Shuffle X, and y in unison\n",
        "#X, y = X[p], y[p]\n",
        "w = rng.uniform(low = -0.1, high = 0.1, size = X.shape[1]).reshape((-1, 1)) # Initialize weights randomly [0, 1)\n",
        "w_old = w.copy()\n",
        "print('X:', X.shape, 'y',  y.shape, 'w:', w.shape) # Sanity check\n",
        "ys = X@w\n",
        "plt.xlabel('x'), plt.ylabel('y'), plt.title('Initial fit')\n",
        "plt.scatter(X[:, 1], y)\n",
        "plt.plot(X[:, 1], ys, 'orange')\n",
        "plt.show()\n",
        "print('Initial weights:', *w)"
      ],
      "metadata": {
        "colab": {
          "base_uri": "https://localhost:8080/",
          "height": 331
        },
        "id": "Bl1Cs5tXiZM1",
        "outputId": "77a1b6a9-d696-428b-f2f2-e687b0c83e0c"
      },
      "execution_count": null,
      "outputs": [
        {
          "output_type": "stream",
          "name": "stdout",
          "text": [
            "X: (100, 2) y (100, 1) w: (2, 1)\n"
          ]
        },
        {
          "output_type": "display_data",
          "data": {
            "text/plain": [
              "<Figure size 432x288 with 1 Axes>"
            ],
            "image/png": "[encoded data removed]"
          },
          "metadata": {
            "needs_background": "light"
          }
        },
        {
          "output_type": "stream",
          "name": "stdout",
          "text": [
            "Initial weights: [0.04076764] [0.09571038]\n"
          ]
        }
      ]
    },
    {
      "cell_type": "code",
      "source": [
        "X.shape, X.T.shape"
      ],
      "metadata": {
        "colab": {
          "base_uri": "https://localhost:8080/"
        },
        "id": "77al6Tesi0Gl",
        "outputId": "26078314-af51-4ace-9e91-59585f18af0c"
      },
      "execution_count": null,
      "outputs": [
        {
          "output_type": "execute_result",
          "data": {
            "text/plain": [
              "((100, 2), (2, 100))"
            ]
          },
          "metadata": {},
          "execution_count": 25
        }
      ]
    },
    {
      "cell_type": "code",
      "source": [
        "h = np.linspace(0.0001, 10, 100)\n",
        "ws = []\n",
        "\n",
        "for hp in h:\n",
        "    opt_w = np.linalg.inv(X.T@X + hp*X.shape[1]*np.identity(X.shape[1]))@(X.T@y)\n",
        "    ws.append(opt_w)\n",
        "    \n"
      ],
      "metadata": {
        "id": "C5X66UtkiuPe"
      },
      "execution_count": null,
      "outputs": []
    },
    {
      "cell_type": "code",
      "source": [
        "ws = np.array(ws).reshape((-1, 2))\n",
        "ws.shape, h[0:10]"
      ],
      "metadata": {
        "colab": {
          "base_uri": "https://localhost:8080/"
        },
        "id": "Me8dRZVsjkyF",
        "outputId": "68d15a1a-2ee3-41e8-cd7b-9a6c74cffe29"
      },
      "execution_count": null,
      "outputs": [
        {
          "output_type": "execute_result",
          "data": {
            "text/plain": [
              "((100, 2),\n",
              " array([1.00000000e-04, 1.01109091e-01, 2.02118182e-01, 3.03127273e-01,\n",
              "        4.04136364e-01, 5.05145455e-01, 6.06154545e-01, 7.07163636e-01,\n",
              "        8.08172727e-01, 9.09181818e-01]))"
            ]
          },
          "metadata": {},
          "execution_count": 36
        }
      ]
    },
    {
      "cell_type": "code",
      "source": [
        "plt.scatter(h, ws[:, 1])\n",
        "plt.xlabel(r'$\\lambda$')\n",
        "plt.ylabel(r'$w_1$')\n",
        "plt.show()"
      ],
      "metadata": {
        "colab": {
          "base_uri": "https://localhost:8080/",
          "height": 281
        },
        "id": "uPOzx5Fll2vT",
        "outputId": "29a2b9b4-bf03-4706-bf66-54eb1207b5dd"
      },
      "execution_count": null,
      "outputs": [
        {
          "output_type": "display_data",
          "data": {
            "text/plain": [
              "<Figure size 432x288 with 1 Axes>"
            ],
            "image/png": "[encoded data removed]"
          },
          "metadata": {
            "needs_background": "light"
          }
        }
      ]
    }
  ]
}