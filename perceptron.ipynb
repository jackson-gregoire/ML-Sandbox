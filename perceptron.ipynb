{
  "nbformat": 4,
  "nbformat_minor": 0,
  "metadata": {
    "colab": {
      "name": "perceptron.ipynb",
      "provenance": [],
      "mount_file_id": "165hkLydySfbuHKxoo0t5UQL4bfUTXwxF",
      "authorship_tag": "ABX9TyNlvrr32yP8xdsYJBHBSh7Z",
      "include_colab_link": true
    },
    "kernelspec": {
      "name": "python3",
      "display_name": "Python 3"
    },
    "language_info": {
      "name": "python"
    }
  },
  "cells": [
    {
      "cell_type": "markdown",
      "metadata": {
        "id": "view-in-github",
        "colab_type": "text"
      },
      "source": [
        "<a href=\"https://colab.research.google.com/github/jackson-gregoire/MachineLearningLearning/blob/main/perceptron.ipynb\" target=\"_parent\"><img src=\"https://colab.research.google.com/assets/colab-badge.svg\" alt=\"Open In Colab\"/></a>"
      ]
    },
    {
      "cell_type": "code",
      "execution_count": 270,
      "metadata": {
        "id": "Mh6k2VrN9Db-"
      },
      "outputs": [],
      "source": [
        "import numpy as np\n",
        "import scipy as sp\n",
        "from scipy import io\n",
        "import matplotlib.pyplot as plt\n",
        "import seaborn as sns"
      ]
    },
    {
      "cell_type": "code",
      "source": [
        "data1 = sp.io.loadmat('/content/sample_data/data1.mat')\n",
        "data2 = sp.io.loadmat('/content/sample_data/data2.mat')"
      ],
      "metadata": {
        "id": "EA2tOGBB9p-d"
      },
      "execution_count": 6,
      "outputs": []
    },
    {
      "cell_type": "code",
      "source": [
        "'''\n",
        "  x,y: [-1,1] not the usual [0,1] like most literature.\n",
        "'''\n",
        "X = data1['X']\n",
        "X = np.concatenate((np.ones((len(X),1)), X), axis = 1,)\n",
        "y = data1['y']"
      ],
      "metadata": {
        "id": "OIwPIXd--X4O"
      },
      "execution_count": 253,
      "outputs": []
    },
    {
      "cell_type": "code",
      "source": [
        "'''\n",
        "  Not really sure what's going on with the visualizations, but the lines won't\n",
        "  extend into the negatives. And I was having a hard time updating the graph with\n",
        "  the given weights. I'll come back to it.\n",
        "'''\n",
        "threshold = 0.05\n",
        "w = np.zeros(3)\n",
        "predictions = []\n",
        "plt.scatter(X[:,1], X[:,2], c = y)\n",
        "\n",
        "for x, r in zip(X, y):\n",
        "  if np.dot(w,x)*r <= 0:\n",
        "    w = w + r*x\n",
        "  #plt.plot([-1,1],[w[0],w[2]])\n"
      ],
      "metadata": {
        "id": "1Jm3SoGdAdVM"
      },
      "execution_count": null,
      "outputs": []
    },
    {
      "cell_type": "code",
      "source": [
        "'''\n",
        "   Another linearly seperable data set where x, y: [0,1]\n",
        "'''\n",
        "h1, y1 = [np.random.uniform(low = 0, high = 0.49, size = 20) , np.random.uniform(low = 0, high = 0.49, size = 20)], np.ones(20)\n",
        "h2, y2 = [np.random.uniform(low = 0.51, high = 1, size = 20) , np.random.uniform(low = 0.5, high = 1, size = 20)], np.zeros(20)\n",
        "X, y = np.hstack((h1, h2)).T, np.hstack((y1,y2))\n",
        "X = np.concatenate((np.ones((len(X),1)), X), axis = 1,)"
      ],
      "metadata": {
        "id": "WH2lYFs31kJz"
      },
      "execution_count": 237,
      "outputs": []
    },
    {
      "cell_type": "code",
      "source": [
        "w = np.zeros(3)\n",
        "error = []\n",
        "plt.scatter(X[:,1], X[:,2], c = y)\n",
        "\n",
        "for x, r in zip(X, y):\n",
        "  f = 1 if w.dot(x) > 0 else 0\n",
        "  w = w + (r - f)*x\n",
        "  error.append(r-f)\n",
        "  #plt.plot([0,1],[w[0],w[2]])"
      ],
      "metadata": {
        "id": "COAvvVwk5Zyq"
      },
      "execution_count": null,
      "outputs": []
    }
  ]
}