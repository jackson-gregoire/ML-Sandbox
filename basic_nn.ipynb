{
  "nbformat": 4,
  "nbformat_minor": 0,
  "metadata": {
    "colab": {
      "name": "5525_HW3_P2.ipynb",
      "provenance": [],
      "collapsed_sections": []
    },
    "kernelspec": {
      "name": "python3",
      "display_name": "Python 3"
    }
  },
  "cells": [
    {
      "cell_type": "code",
      "metadata": {
        "id": "SsWn7NhGBhk6"
      },
      "source": [
        "import numpy as np\n",
        "import tensorflow as tf\n",
        "from tensorflow import keras\n",
        "from keras import layers\n",
        "from keras import Sequential\n",
        "import matplotlib.pyplot as plt\n",
        "import time"
      ],
      "execution_count": null,
      "outputs": []
    },
    {
      "cell_type": "markdown",
      "metadata": {
        "id": "2MtbL-R9B_Ol"
      },
      "source": [
        "# Problem 2\n",
        "Implement a multi-layer fully connected neural network:  \n",
        "• Input: 1-channel input, size 28x28  \n",
        "• Fully connected layer 1: input with bias; output - 128 nodes\n",
        "• ReLU activation function  \n",
        "• Fully connected layer 2: input - 128 nodes; output - 10 nodes   \n",
        "• Softmax activation function  \n",
        "• Use cross entropy as the loss function  \n",
        "• Use SGD as optimizer  \n",
        "• Set mini batch size as 32  \n",
        "\n",
        "Train using mini batches of the given batch size. Plot the cumulative training loss and accuracy for every epoch. Once training is complete, apply the learned model to the test set and report the testing accuracy.\n",
        "Epoch: An epoch is a single pass through all the training data. Typically many epochs will be run when training a neural network before it converges."
      ]
    },
    {
      "cell_type": "code",
      "metadata": {
        "id": "F3ArQ81bC7ww",
        "colab": {
          "base_uri": "https://localhost:8080/",
          "height": 617
        },
        "outputId": "6b8f3127-cbed-4f13-b9b3-b6b311f756ce"
      },
      "source": [
        "def neural_net():\n",
        "  # Data\n",
        "  mnist = tf.keras.datasets.mnist\n",
        "  (X_train, y_train), (X_test, y_test) = mnist.load_data()\n",
        "\n",
        "  # Rescale\n",
        "  X_train = X_train / 255.0\n",
        "  X_test = X_test / 255.0\n",
        "\n",
        "  # Sequential model\n",
        "  model = keras.Sequential([\n",
        "                            keras.layers.Flatten(input_shape=(28, 28)),  # Input layer\n",
        "                            keras.layers.Dense(128, activation='relu', use_bias = True),  # Hidden layer 1\n",
        "                            keras.layers.Dense(10, activation='softmax'), # Output layer\n",
        "                            ])\n",
        "  \n",
        "  # Optimizer\n",
        "  opt = tf.optimizers.SGD(learning_rate= 1)\n",
        "  model.compile(optimizer= opt,\n",
        "            loss = 'sparse_categorical_crossentropy',\n",
        "            metrics=['accuracy'])\n",
        "\n",
        "  # Callbacks for convergence criterion\n",
        "  es = tf.keras.callbacks.EarlyStopping(monitor='loss', min_delta= 0.001, verbose=1)\n",
        "  checkpoint = tf.keras.callbacks.ModelCheckpoint(\"best_model\", monitor = 'accuracy' ,verbose = 1, mode = 'max', save_best_only = True)\n",
        "  callbacks = [es, checkpoint]\n",
        "  \n",
        "  # Fitting the model and reporting training and test accuracy\n",
        "  history = model.fit(X_train, y_train, epochs = 100, callbacks = [es, checkpoint])\n",
        "  test_loss, test_acc = model.evaluate(X_test,  y_test, verbose=1) \n",
        "  print(\"=\"*100)\n",
        "  print(\"Test Accuracy: \", test_acc)\n",
        "  print(\"=\"*100)\n",
        "\n",
        "  # Graphing: Epoch vs. Training Accuracy\n",
        "  plt.plot(history.history['accuracy'])\n",
        "  plt.plot(history.history['loss'])\n",
        "  plt.title('Model Accuracy/Loss per Epoch')\n",
        "  plt.ylabel('Accuracy/Loss')\n",
        "  plt.xlabel('Epoch #')\n",
        "  plt.legend(['accuracy', 'loss'], loc='upper left')\n",
        "  plt.grid()\n",
        "  plt.show()\n",
        "\n",
        "\n",
        "def main():\n",
        "  neural_net()\n",
        "\n",
        "if __name__ == \"__main__\":\n",
        "  main()"
      ],
      "execution_count": null,
      "outputs": [
        {
          "output_type": "stream",
          "name": "stdout",
          "text": [
            "Downloading data from https://storage.googleapis.com/tensorflow/tf-keras-datasets/mnist.npz\n",
            "11493376/11490434 [==============================] - 0s 0us/step\n",
            "11501568/11490434 [==============================] - 0s 0us/step\n",
            "Epoch 1/100\n",
            "1865/1875 [============================>.] - ETA: 0s - loss: 0.4066 - accuracy: 0.8836\n",
            "Epoch 1: accuracy improved from -inf to 0.88383, saving model to best_model\n",
            "INFO:tensorflow:Assets written to: best_model/assets\n",
            "1875/1875 [==============================] - 11s 5ms/step - loss: 0.4059 - accuracy: 0.8838\n",
            "Epoch 2/100\n",
            "1859/1875 [============================>.] - ETA: 0s - loss: 0.2326 - accuracy: 0.9363\n",
            "Epoch 2: accuracy improved from 0.88383 to 0.93627, saving model to best_model\n",
            "INFO:tensorflow:Assets written to: best_model/assets\n",
            "1875/1875 [==============================] - 5s 2ms/step - loss: 0.2326 - accuracy: 0.9363\n",
            "Epoch 2: early stopping\n",
            "313/313 [==============================] - 1s 2ms/step - loss: 0.2838 - accuracy: 0.9261\n",
            "====================================================================================================\n",
            "Test Accuracy:  0.9261000156402588\n",
            "====================================================================================================\n"
          ]
        },
        {
          "output_type": "display_data",
          "data": {
            "text/plain": [
              "<Figure size 432x288 with 1 Axes>"
            ],
            "image/png": "[encoded data removed]"
          },
          "metadata": {
            "needs_background": "light"
          }
        }
      ]
    }
  ]
}