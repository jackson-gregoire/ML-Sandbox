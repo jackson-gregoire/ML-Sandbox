{
  "nbformat": 4,
  "nbformat_minor": 0,
  "metadata": {
    "colab": {
      "name": "CSCI5980HW3_P3.ipynb",
      "provenance": [],
      "collapsed_sections": []
    },
    "kernelspec": {
      "name": "python3",
      "display_name": "Python 3"
    }
  },
  "cells": [
    {
      "cell_type": "code",
      "metadata": {
        "id": "3VtwkloRhaNf"
      },
      "source": [
        "import numpy as np\n",
        "import torch \n",
        "import torch.nn as nn\n",
        "import torchvision\n",
        "from torchvision import transforms\n",
        "import torch.optim\n",
        "import matplotlib.pyplot as plt\n",
        "from torch.optim.optimizer import Optimizer, required"
      ],
      "execution_count": null,
      "outputs": []
    },
    {
      "cell_type": "code",
      "metadata": {
        "colab": {
          "base_uri": "https://localhost:8080/",
          "height": 405
        },
        "id": "49XAfX5s30_0",
        "outputId": "92fbfe9b-f6bb-4ad8-9260-dd36af653b86"
      },
      "source": [
        "# Input size (28 x 28)\n",
        "def neural_net():\n",
        "  mnist_train = torchvision.datasets.MNIST(\"data/\", train = True, transform=transforms.ToTensor(), download=True)\n",
        "  mnist_test = torchvision.datasets.MNIST(\"data/\", train = False, transform= transforms.ToTensor(), download=True)\n",
        "  train = torch.utils.data.DataLoader(mnist_train, batch_size = 64, shuffle = True)\n",
        "  test = torch.utils.data.DataLoader(mnist_test, batch_size = 64, shuffle = True)\n",
        "  device = torch.device(\"cuda:0\" if torch.cuda.is_available() else \"cpu\")\n",
        "\n",
        "  model = nn.Sequential(\n",
        "      nn.Linear(in_features = (28*28), out_features = 64, bias = True),\n",
        "      nn.ReLU(inplace=True),\n",
        "      nn.Linear(in_features= 64, out_features=128, bias=True),\n",
        "      nn.ReLU(inplace=True),\n",
        "      nn.Linear(in_features= 128, out_features=10)\n",
        "  )\n",
        "\n",
        "  loss_func = nn.CrossEntropyLoss()\n",
        "  learning_rate = .001\n",
        "  beta = 0.9\n",
        "  epochs = 3\n",
        "  loss_arr = []\n",
        "\n",
        "  for epoch in range(epochs):\n",
        "    print(\"EPOCH:\", epoch + 1)\n",
        "    for batch in train:\n",
        "      X, y = batch\n",
        "      X = X.view(-1, 28*28)\n",
        "      model.zero_grad()\n",
        "      y_predict = model(X)\n",
        "      loss = loss_func(y_predict, y)\n",
        "      loss_arr.append(loss)\n",
        "      loss.backward()\n",
        "      MyAdagrad(model.parameters(), learning_rate, 1e-8)\n",
        "      #MyRMSprop(model.parameters(), learning_rate, beta, 1e-8)\n",
        "      #MyAdam(model.parameters(), learning_rate, 0.9, 0.999, 1e-8)\n",
        "      \n",
        "    print(loss)\n",
        "\n",
        "  plt.plot(loss_arr)\n",
        "  plt.title('Loss per Epoch')\n",
        "  plt.ylabel('Loss')\n",
        "  plt.xlabel('Epoch #')\n",
        "  plt.grid()\n",
        "  plt.show()\n",
        "\n",
        "  return model\n",
        "\n",
        "def MyAdagrad(params, eta, e):\n",
        "  with torch.no_grad():\n",
        "    for param in params:\n",
        "        param -= eta*(param.grad/torch.sqrt(torch.sum(torch.square(param.grad) + e)))\n",
        "\n",
        "def MyRMSprop(params, eta, beta, e):\n",
        "  with torch.no_grad():\n",
        "    for param in params:\n",
        "      s_k = 0\n",
        "      k = len(param.grad) \n",
        "\n",
        "      for i in range(len(param.grad)):\n",
        "        s_k += (1-beta)*(beta**k)*torch.square(param.grad[i])\n",
        "        k -= 1\n",
        "\n",
        "      param -= eta*(param.grad/torch.sqrt(s_k + e))\n",
        "\n",
        "\n",
        "def MyAdam(params, eta, beta_1, beta_2, e):\n",
        "  with torch.no_grad():\n",
        "    for param in params:\n",
        "      s_k = 0\n",
        "      m_k = 0\n",
        "      k = len(param.grad) \n",
        "\n",
        "      for i in range(len(param.grad)):\n",
        "        s_k += (1-beta_2)*(beta_2**k)*torch.square(param.grad[i]) # scaling\n",
        "        m_k += (1-beta_1)*(beta_1**k)*param.grad[i] # momentum\n",
        "        k -= 1\n",
        "\n",
        "      param -= eta*(m_k/torch.sqrt(s_k + e))\n",
        "\n",
        "def main():\n",
        "  neural_net()\n",
        "\n",
        "\n",
        "if __name__ == \"__main__\":\n",
        "  main()"
      ],
      "execution_count": null,
      "outputs": [
        {
          "output_type": "stream",
          "text": [
            "EPOCH: 1\n",
            "tensor(1.8798, grad_fn=<NllLossBackward>)\n",
            "EPOCH: 2\n",
            "tensor(1.2885, grad_fn=<NllLossBackward>)\n",
            "EPOCH: 3\n",
            "tensor(0.9255, grad_fn=<NllLossBackward>)\n"
          ],
          "name": "stdout"
        },
        {
          "output_type": "display_data",
          "data": {
            "image/png": "[encoded data removed]",
            "text/plain": [
              "<Figure size 432x288 with 1 Axes>"
            ]
          },
          "metadata": {
            "tags": [],
            "needs_background": "light"
          }
        }
      ]
    }
  ]
}