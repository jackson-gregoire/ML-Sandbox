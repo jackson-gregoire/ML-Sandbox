{
  "nbformat": 4,
  "nbformat_minor": 0,
  "metadata": {
    "colab": {
      "name": "bpp.ipynb",
      "provenance": [],
      "collapsed_sections": []
    },
    "kernelspec": {
      "name": "python3",
      "display_name": "Python 3"
    },
    "language_info": {
      "name": "python"
    }
  },
  "cells": [
    {
      "cell_type": "code",
      "source": [
        "# !pip install gpboost"
      ],
      "metadata": {
        "id": "hmg1042u-6DQ"
      },
      "execution_count": null,
      "outputs": []
    },
    {
      "cell_type": "code",
      "source": [
        "import os\n",
        "import numpy as np\n",
        "import matplotlib.pyplot as plt\n",
        "import seaborn as sns\n",
        "import pandas as pd\n",
        "import tensorflow as tf\n",
        "from keras.models import Sequential\n",
        "from keras.layers import Dense, Dropout, LSTM\n",
        "from scipy.stats import norm\n",
        "import sklearn as sk\n",
        "import xgboost as xgb\n",
        "import lightgbm as lgb\n",
        "from sklearn import preprocessing, model_selection, multioutput, linear_model, decomposition, multioutput\n",
        "# below added after submission\n",
        "import statsmodels\n",
        "from statsmodels.datasets import grunfeld\n",
        "# import gpboost as gpb\n",
        "from sklearn.svm import LinearSVR\n",
        "from sklearn.pipeline import make_pipeline\n",
        "from sklearn.preprocessing import StandardScaler\n",
        "np.set_printoptions(edgeitems=30, linewidth=100000, \n",
        "    formatter=dict(float=lambda x: \"%.3g\" % x))"
      ],
      "metadata": {
        "id": "ckeBv65PsAjz"
      },
      "execution_count": null,
      "outputs": []
    },
    {
      "cell_type": "code",
      "source": [
        "!python --version\n",
        "tf.version.VERSION, np.version.version"
      ],
      "metadata": {
        "id": "7vBxDiHA8i2T",
        "outputId": "85a1d9f2-142c-447f-d6ed-ac11d2312ff5",
        "colab": {
          "base_uri": "https://localhost:8080/"
        }
      },
      "execution_count": null,
      "outputs": [
        {
          "output_type": "stream",
          "name": "stdout",
          "text": [
            "Python 3.7.13\n"
          ]
        },
        {
          "output_type": "execute_result",
          "data": {
            "text/plain": [
              "('2.8.0', '1.21.6')"
            ]
          },
          "metadata": {},
          "execution_count": 2
        }
      ]
    },
    {
      "cell_type": "code",
      "source": [
        "# !pip freeze > requirements.txt"
      ],
      "metadata": {
        "id": "nkbPzk1cCAbY"
      },
      "execution_count": null,
      "outputs": []
    },
    {
      "cell_type": "markdown",
      "source": [
        "# **Global Study Parameters and Patient Obj**"
      ],
      "metadata": {
        "id": "yskAdwu3wwPu"
      }
    },
    {
      "cell_type": "code",
      "source": [
        "''' RUN THIS CELL '''\n",
        "# Global constant for parameters of longitudinal study (control total repeated measures)\n",
        "TOTAL_OBS_PERIOD = 120 # Total number of months study runs\n",
        "MEASUREMENT_INTERVAL = 6 # Interval in months at which they take measurements (in theory) "
      ],
      "metadata": {
        "id": "hU3tMM12tahh"
      },
      "execution_count": null,
      "outputs": []
    },
    {
      "cell_type": "markdown",
      "source": [
        "My general thesis on choosing values for the underlying parameters (and distributions on) were that patients would generally have been prescreened and singled out to already because they exhibits some evolutionary behavior. Thus there is probably a significant starting value (relatively). But after some inflection point $t_k$ is when the evolutionary rate really starts to increase (or speed up over time). \\\\\n",
        "$m_0 \\sim U(0.3, 0.5)$ \\\\\n",
        "$m_1 \\sim N(\\phi, m_0)$ \\\\\n",
        "$b_0 = 0.5$ \\\\\n",
        "$b_1 = (m_0 - m_1)t_k + b_0$ \\\\\n",
        "$k = 0.7$"
      ],
      "metadata": {
        "id": "Ut0-xTZPkg_j"
      }
    },
    {
      "cell_type": "code",
      "source": [
        "''' RUN THIS CELL '''\n",
        "\n",
        "class patient:\n",
        "    ''' Used for generating patient objects, each with unique evolutionary rates\n",
        "        of the ground truth biomarker. \n",
        "    '''\n",
        "    def __init__(self) -> None:\n",
        "        self.division_point = 0.7 # The point, k, at which the piecewise function divides.\n",
        "        self.rng = np.random.default_rng()\n",
        "        self.phi = 1.618033988749895 # A little golden ratio flair for fun.\n",
        "        \n",
        "        # Biomarker info\n",
        "        # 0 <= t <= t_k piecewise parameters (below)\n",
        "        self.m0, self.b0 = self.rng.uniform(low = 0.3, high = 0.5), self.rng.uniform(low = 0.4, high = 0.5)\n",
        "        # t_k <= t <= 1 piecewise parameters (below)\n",
        "        self.m1 = self.rng.normal(self.phi, self.m0) #self.rng.uniform(low = self.m0, high = self.phi)\n",
        "        self.b1 = (self.m0 - self.m1)*self.division_point + self.b0\n",
        "        \n",
        "        # Patient info\n",
        "        self.age = np.random.randint(low = 20, high = 40 + 1)\n",
        "        self.gender = self.rng.binomial(n = 1, p = 0.5)\n",
        "        # Data taken from https://www.cdc.gov/nchs/fastats/body-measurements.htm\n",
        "        # 'Avg' US male height ~175 cm, women ~161 cm (for white males/females)\n",
        "        self.height = self.rng.normal(175, 7) if self.gender == 1 else self.rng.normal(161, 7)\n",
        "        # 'Avg' US male weight ~200 lbs, women ~171 lbs (for white males/females)\n",
        "        self.weight = self.rng.normal(200, 10) if self.gender == 1 else self.rng.normal(171, 10)"
      ],
      "metadata": {
        "id": "mC3IxVads9Dy"
      },
      "execution_count": null,
      "outputs": []
    },
    {
      "cell_type": "markdown",
      "source": [
        "# **Biomarker 'truth' model**"
      ],
      "metadata": {
        "id": "mlseDjNDQjzD"
      }
    },
    {
      "cell_type": "code",
      "source": [
        "''' RUN THIS CELL '''\n",
        "\n",
        "def biomarker_truth_model(patient: object, unit_time: float) -> float:\n",
        "    ''' Takes in a unit time on [0,1] and returns the \"true\" biomarker history \n",
        "        for a patient at any desired point on the unit interval.\n",
        "\n",
        "        ### Parameters:\n",
        "        patient: object\n",
        "            Contains all of the ground truth rates of evolution for the given\n",
        "            patient.\n",
        "        unit_time: float\n",
        "            Time, unitized by length of observational period.\n",
        "        model: string\n",
        "            - 'liner' for a piecewise linear.\n",
        "            - 'rwalk' for random walk process.\n",
        "        \n",
        "        ### Returns:\n",
        "        biomarker: float\n",
        "            \"True\" biomarker for given patient at desired unit time point.\n",
        "    '''\n",
        "\n",
        "    # For time between 0 <= t <= t_k\n",
        "    if unit_time <= patient.division_point: return patient.m0*unit_time + patient.b0\n",
        "    # For time between t_k <= t <= 1\n",
        "    else: return patient.m1*unit_time + patient.b1"
      ],
      "metadata": {
        "id": "HUymcuM3s_yJ"
      },
      "execution_count": null,
      "outputs": []
    },
    {
      "cell_type": "markdown",
      "source": [
        "# **Clinical measurement model**"
      ],
      "metadata": {
        "id": "RlnWFNq3Qr5H"
      }
    },
    {
      "cell_type": "code",
      "source": [
        "''' RUN THIS CELL '''\n",
        "\n",
        "def clinical_measurement_model(patient: object, total_measurements: int, measurement_interval: int) -> np.ndarray:\n",
        "    ''' Takes in a patient record/object and the number of total measurements conducted\n",
        "        in the study and returns the observed biomarker measurements which account\n",
        "        for error caused by intrumentation error, test protocols, individual biology, etc.\n",
        "\n",
        "        ### Parameters:\n",
        "        patient: object\n",
        "            Contains all of the ground truth rates of evolution for the given\n",
        "            patient.\n",
        "        total_measurements: int\n",
        "            Number of total measurements taken throughout the study.\n",
        "        measurement_interval: int\n",
        "            Number of months at which a patient will come in for observations/\n",
        "            measurements (in theory).\n",
        "\n",
        "        ### Returns\n",
        "        actual_measurements: np.ndarray\n",
        "            The actual measurements throughout the study accounting for timing\n",
        "            conflicts, as well as measurement error.\n",
        "        adjusted_unit_schedule: np.ndarray\n",
        "            The actual times at which patients came into be measured relative to\n",
        "            the theorhetical observational schedule.\n",
        "    '''\n",
        "    rng = np.random.default_rng()\n",
        "    dt = measurement_interval # Delta t\n",
        "    true_timing_schedule = np.arange(0, dt*total_measurements, dt)  # Monthly intervals at which patients would optimally get measured\n",
        "    scheduling_variability =  rng.normal(0, 0.1, size = len(true_timing_schedule)) # Variabilty in clinic visit by month (fractions of)\n",
        "    noisy_timing_schedule = true_timing_schedule + scheduling_variability # Actual patient schedule (w/ noise)\n",
        "\n",
        "    # Since in all probability, only the first measurment might be negative,\n",
        "    # relative to a zero start date, we just say the initial measurement is a t_0\n",
        "    # and adjust the rest of the visits from there.\n",
        "    adjusted_unit_schedule = np.where(noisy_timing_schedule >= 0, \n",
        "                                      noisy_timing_schedule / np.max(noisy_timing_schedule), 0)\n",
        "    noisy_measurements = np.array([biomarker_truth_model(patient, adj_unit_time) for adj_unit_time in adjusted_unit_schedule])\n",
        "    measurement_variability = rng.normal(0, 0.25, size = len(noisy_measurements))\n",
        "\n",
        "    # I think I need to return the noisy time as well so that when I convert\n",
        "    # the data to a long format I have something more granular\n",
        "    return noisy_measurements + measurement_variability, adjusted_unit_schedule"
      ],
      "metadata": {
        "id": "8UN6DcQsCgJs"
      },
      "execution_count": null,
      "outputs": []
    },
    {
      "cell_type": "markdown",
      "source": [
        "# **Helper and Transformation Functions**"
      ],
      "metadata": {
        "id": "zwi3dlEl9Jjo"
      }
    },
    {
      "cell_type": "code",
      "source": [
        "''' RUN THIS CELL '''\n",
        "\n",
        "def generate_patients(num_patients: int) -> np.ndarray:\n",
        "    ''' Generates N unique patient record objects.\n",
        "\n",
        "        ### Parameters\n",
        "        num_patients: int\n",
        "            Number of patient objects to be generated.\n",
        "\n",
        "        ### Returns\n",
        "        patient_records: np.ndarray\n",
        "            (N x 1) np.ndarray containing patient() objects.\n",
        "    '''\n",
        "    patient_records = np.array([patient() for pat in range(num_patients)])\n",
        "\n",
        "    return patient_records\n",
        "\n",
        "def generate_longitudinal_dataset(patients: np.ndarray, observational_period: int, measurement_interval: int) -> np.ndarray:\n",
        "    ''' Generates a wide format longitudinal data set combining information form\n",
        "        unique patient records with the clinical measurements.\n",
        "\n",
        "        ### Parameters\n",
        "        patients: np.ndarray\n",
        "            An (N x 1) array storing all of the patient records as objects.\n",
        "        observational_period: int\n",
        "            Total number of months the obersavtional study ran.\n",
        "        measurement_interval: int\n",
        "            Interval, in months, at which patients were measured (in theory).\n",
        "\n",
        "        ### Returns\n",
        "        study_data: np.ndarray\n",
        "            Wide format data set which includes patient id, gender, age, height,\n",
        "            and weight as well as all of the patients clinical biomarker measurements.\n",
        "        actual_measurement_times: np.ndarray\n",
        "            The actual times at which patients came into be measured relative to\n",
        "            the theorhetical observational schedule.\n",
        "        \n",
        "        \n",
        "    '''\n",
        "    total_measurements = observational_period // measurement_interval\n",
        "    unit_measurement_schedule = np.arange(0, 1, 1/total_measurements)\n",
        "    study_data = np.empty(shape = (1, total_measurements + 5))\n",
        "    actual_measurement_times = np.empty(shape = (1, total_measurements))\n",
        "\n",
        "    # Generates actual measurements using clinical measurement model, and \n",
        "    # concatenates all additional patient info such as gender, age, height, weight.\n",
        "    for patient, patient_id in zip(patients, range(1,len(patients) + 1)):\n",
        "        patient_info = [patient_id, patient.gender, patient.age, patient.height, patient.weight]\n",
        "        clinical_measurements, adj_unit_schedule = clinical_measurement_model(patient, total_measurements, measurement_interval)\n",
        "        study_data = np.vstack((study_data, np.append(patient_info, clinical_measurements)))\n",
        "        actual_measurement_times = np.vstack((actual_measurement_times, adj_unit_schedule))\n",
        "\n",
        "    # removes the np.empty init rows\n",
        "    study_data = study_data[1:len(study_data), ] \n",
        "    actual_measurement_times = actual_measurement_times[1:len(actual_measurement_times), ]\n",
        "                    \n",
        "    return study_data, actual_measurement_times\n",
        "\n",
        "def wide_to_long(longitudinal_data: np.ndarray, time_data: np.ndarray) -> np.ndarray:\n",
        "    ''' Coverts a the longitudinal data which comes in the wide format to a long\n",
        "        format based on the associated patient_id.\n",
        "\n",
        "    '''\n",
        "    # We need 5 columns for patient_id, gender, age, height, weight and then \n",
        "    # a column for time and the associated clinical measurement\n",
        "    # total columns -> 7\n",
        "    wide_data = np.empty(shape = (1, 7))\n",
        "\n",
        "    for patient, time in zip(longitudinal_data, time_data):\n",
        "        for actual_time, measurement in zip(time, patient[5:len(patient)]):\n",
        "            patient_info = np.concatenate((patient[0:5], [actual_time], [measurement]))\n",
        "            wide_data = np.vstack((wide_data, patient_info))\n",
        "    \n",
        "    wide_data = wide_data[1:len(wide_data), ]\n",
        "    return wide_data"
      ],
      "metadata": {
        "id": "7QdaZb4BemzU"
      },
      "execution_count": null,
      "outputs": []
    },
    {
      "cell_type": "markdown",
      "source": [
        "**Generate N Patients** \n",
        "\n"
      ],
      "metadata": {
        "id": "9NLyh-v28wSa"
      }
    },
    {
      "cell_type": "code",
      "source": [
        "''' RUN THIS CELL '''\n",
        "patient_records = generate_patients(200)"
      ],
      "metadata": {
        "id": "QWr2F7iL81h6"
      },
      "execution_count": null,
      "outputs": []
    },
    {
      "cell_type": "markdown",
      "source": [
        "**Generate Longitudinal Study Data**"
      ],
      "metadata": {
        "id": "tity90Vi8oEn"
      }
    },
    {
      "cell_type": "code",
      "source": [
        "''' RUN THIS CELL '''\n",
        "# Columns in long_data: 0: patient_id, 1: gender, 2: age, 3: height, 4: weight, 5+: [times...]\n",
        "wide_data, times = generate_longitudinal_dataset(patient_records, TOTAL_OBS_PERIOD, MEASUREMENT_INTERVAL)"
      ],
      "metadata": {
        "id": "a6nvg__M8nKX"
      },
      "execution_count": null,
      "outputs": []
    },
    {
      "cell_type": "markdown",
      "source": [
        "# **Preparing the data**\n",
        "I'm removing $patient\\_id$ for now just because usually it doesn't contribute much to the predictive accuracy, plus for large dataset you would have to find some way to deal with it's magitude in an approriate way.\n",
        "\n",
        "Were taking the original $(N \\text{ x } D)$ dataset, which consists originally of $patient\\_id, gender, age, height, weight, t_0, ..., t_i, ...,t_1$ (where $i \\in [0,1]$) features, removing $patient\\_id$ and then using the entry at $t_1$ (last measurement on the unit interval) as our targets for $\\textbf{y}$. So now $\\textbf{X} ↦ (N\\text{ x }D-2)$ and $\\textbf{y} ↦ (N\\text{ x }1)$.\n",
        "\n",
        "The only possible downside, which can probably be remedied by using the native DMatrix data structure, is that the train time seems to scale rather inefficiently as the number of patients grow. $N = 500$ patients, at $30$ total biomarker measurements takes between $1-2$ minutes."
      ],
      "metadata": {
        "id": "gCW_BASWA8Wb"
      }
    },
    {
      "cell_type": "code",
      "source": [
        "''' RUN THIS CELL '''\n",
        "# Columns in long_data: 0: patient_id, 1: gender, 2: age, 3: height, 4: weight, 5+: [times...]\n",
        "X, y = wide_data[:, 1:-1], wide_data[:, -1] # Leaves off patient_id from X"
      ],
      "metadata": {
        "id": "ZFllGVnTCXdj"
      },
      "execution_count": null,
      "outputs": []
    },
    {
      "cell_type": "markdown",
      "source": [
        "# **XGBoost**\n",
        "No explicit feature scaling needs to be done for XGBoost."
      ],
      "metadata": {
        "id": "c3qxzgaUUP3C"
      }
    },
    {
      "cell_type": "code",
      "source": [
        "''' RUN THIS CELL '''\n",
        "\n",
        "def xgboost(X: np.ndarray, y: np.ndarray) -> xgb.XGBRegressor:\n",
        "    ''' Takes in a wide format data set (without patient_id), performs the XGBoost\n",
        "        algorithm with grid search for hyperparameter tuning, then returns the best\n",
        "        model and prints the R2 coefficient of determination of said model.\n",
        "\n",
        "        ### Parameters\n",
        "        X: np.ndarray\n",
        "            An (N x D) array containing all of the measurements as well as patient\n",
        "            info.\n",
        "        y: np.ndarray\n",
        "            An (N x 1) array containing last biomarker measurement as the target \n",
        "            values.\n",
        "\n",
        "        ### Returns\n",
        "        xgb_fit: xgb.XGBRegressor\n",
        "            XGBoost model for regression.\n",
        "    '''\n",
        "\n",
        "    X_train, X_test, y_train, y_test = sk.model_selection.train_test_split(X, y, test_size= 0.2, random_state= 529, shuffle = True)\n",
        "    # dtrain = xgb.DMatrix(X_train, y_train)\n",
        "    # dtest = xgb.DMatrix(X_test, y_test)\n",
        "    xgb_grid = {\n",
        "        'max_depth': np.arange(2, 10, 2),\n",
        "        'n_esimators': np.arange(10, 100, 10),\n",
        "        #'num_round': np.arange(12, 61, 12),\n",
        "        'learning_rate': [0.1, 0.01, 0.001, 0.0001],\n",
        "    }\n",
        "\n",
        "    xgb_model = xgb.XGBRegressor(objective = 'reg:squarederror', tree_method = 'hist', verbosity=0)\n",
        "    grid_search = sk.model_selection.GridSearchCV(xgb_model, param_grid=xgb_grid, cv = 5)\n",
        "    # multitout_test = sk.multioutput.MultiOutputRegressor(estimator = grid_search).fit(X_train, y_train)\n",
        "    xgb_fit = grid_search.fit(X_train, y_train)\n",
        "    print(f'R2 Score: {xgb_fit.score(X_test, y_test)}')\n",
        "\n",
        "    return xgb_fit"
      ],
      "metadata": {
        "id": "64Yf2X3giz5s"
      },
      "execution_count": null,
      "outputs": []
    },
    {
      "cell_type": "code",
      "source": [
        "''' RUN THIS CELL '''\n",
        "#xgb_model = xgboost(X_transformed, y_all)\n",
        "xgb_model = xgboost(X, y)\n",
        "xgb_model.best_estimator_, xgb_model.best_params_"
      ],
      "metadata": {
        "colab": {
          "base_uri": "https://localhost:8080/"
        },
        "id": "-FSosT1u17fx",
        "outputId": "7e7a8220-0d98-480a-abbd-e17efd7ef8c2"
      },
      "execution_count": null,
      "outputs": [
        {
          "output_type": "stream",
          "name": "stdout",
          "text": [
            "R2 Score: -0.08735323921746319\n"
          ]
        },
        {
          "output_type": "execute_result",
          "data": {
            "text/plain": [
              "(XGBRegressor(max_depth=4, n_esimators=10, objective='reg:squarederror',\n",
              "              tree_method='hist', verbosity=0),\n",
              " {'learning_rate': 0.1, 'max_depth': 4, 'n_esimators': 10})"
            ]
          },
          "metadata": {},
          "execution_count": 12
        }
      ]
    },
    {
      "cell_type": "markdown",
      "source": [
        "# **LSTM**"
      ],
      "metadata": {
        "id": "44sMgroQbrYM"
      }
    },
    {
      "cell_type": "code",
      "source": [
        "''' RUN THIS CELL'''\n",
        "big_patients = generate_patients(5000)\n",
        "wide_data_lstm, times_lstm = generate_longitudinal_dataset(big_patients, TOTAL_OBS_PERIOD, MEASUREMENT_INTERVAL)"
      ],
      "metadata": {
        "id": "MEKozzznWGsy"
      },
      "execution_count": null,
      "outputs": []
    },
    {
      "cell_type": "code",
      "source": [
        "''' RUN THIS CELL'''\n",
        "# Strips data set of patient info, leaving only sequential measurement data.\n",
        "# Columns in long_data: 0: patient_id, 1: gender, 2: age, 3: height, 4: weight, 5+: [times...]\n",
        "X_measure, y_measure = wide_data_lstm[:, 5:-1], wide_data_lstm[:, -1] # Only the biomarker measaurements\n",
        "Xlog, ylog = np.log(X_measure + 1), np.log(y_measure + 1)\n",
        "X_measure.shape, y_measure.shape\n",
        "minmax = sk.preprocessing.MinMaxScaler(copy = True)\n",
        "X = minmax.fit_transform(X_measure)"
      ],
      "metadata": {
        "id": "xYrifZmiIJCY"
      },
      "execution_count": null,
      "outputs": []
    },
    {
      "cell_type": "code",
      "source": [
        "''' RUN THIS CELL '''\n",
        "def lstm(X: np.ndarray, y: np.ndarray) -> tf.keras.models.Model():\n",
        "    ''' Long short-term memory model for building a sequential network on the\n",
        "        measurement values.\n",
        "\n",
        "        ### Paramters\n",
        "        X: np.ndarray\n",
        "            An (N x D) array of sequential data in the form of clinical measurements\n",
        "            over time.\n",
        "        y: np.ndarray\n",
        "            An (N x 1) array of clinical measurements as targets.\n",
        "\n",
        "        ### Returns\n",
        "        adam_model: tf.keras.models.Model()\n",
        "            Returns a LSTM optimized with Adam, using handtune hyper parameters\n",
        "            for learning rate and decay.\n",
        "\n",
        "    '''\n",
        "    X_train, X_test, y_train, y_test = sk.model_selection.train_test_split(X, y, test_size= 0.2, random_state = 4242, shuffle = True)\n",
        "\n",
        "    lstm_model = Sequential([LSTM(64, activation = 'relu', input_shape = (X_train.shape[1], 1), use_bias = True, return_sequences=True),\n",
        "                        #tf.keras.layers.Flatten(),\n",
        "                        Dropout(0.2),\n",
        "                        LSTM(32, activation = 'relu'),\n",
        "                        Dropout(0.2),\n",
        "                        Dense(16, activation = 'relu'),\n",
        "                        Dropout(0.2),\n",
        "                        Dense(1)]\n",
        "    )\n",
        "\n",
        "    optim = tf.keras.optimizers.Adam(learning_rate= 1e-3, decay = 1e-4)\n",
        "    lstm_model.compile(loss = \"MeanSquaredError\", optimizer=optim, metrics = [\"MeanSquaredError\"])\n",
        "    #lstm_model.compile(loss = tf.keras.losses.MeanAbsoluteError(), optimizer=optim, metrics = [\"mae\"])\n",
        "    adam = lstm_model.fit(X_train, y_train, epochs = 5, validation_data=(X_test, y_test))\n",
        "\n",
        "    return adam"
      ],
      "metadata": {
        "id": "emaRP_a3cAbM"
      },
      "execution_count": null,
      "outputs": []
    },
    {
      "cell_type": "code",
      "source": [
        "# 05/11 ran with MAE\n",
        "# Log transform on measurement data to account for non-stationary behavior.\n",
        "log_model = lstm(Xlog, ylog)"
      ],
      "metadata": {
        "colab": {
          "base_uri": "https://localhost:8080/"
        },
        "id": "beFcR61y_Eg8",
        "outputId": "6b560989-5e57-45ed-cbce-37fd2950cd9e"
      },
      "execution_count": null,
      "outputs": [
        {
          "output_type": "stream",
          "name": "stdout",
          "text": [
            "Epoch 1/5\n",
            "125/125 [==============================] - 5s 24ms/step - loss: 0.2567 - mae: 0.2567 - val_loss: 0.1052 - val_mae: 0.1052\n",
            "Epoch 2/5\n",
            "125/125 [==============================] - 2s 19ms/step - loss: 0.1690 - mae: 0.1690 - val_loss: 0.1047 - val_mae: 0.1047\n",
            "Epoch 3/5\n",
            "125/125 [==============================] - 2s 19ms/step - loss: 0.1588 - mae: 0.1588 - val_loss: 0.1010 - val_mae: 0.1010\n",
            "Epoch 4/5\n",
            "125/125 [==============================] - 2s 19ms/step - loss: 0.1490 - mae: 0.1490 - val_loss: 0.1024 - val_mae: 0.1024\n",
            "Epoch 5/5\n",
            "125/125 [==============================] - 2s 19ms/step - loss: 0.1406 - mae: 0.1406 - val_loss: 0.1026 - val_mae: 0.1026\n"
          ]
        }
      ]
    },
    {
      "cell_type": "code",
      "source": [
        "''' RUN THIS CELL '''\n",
        "adam_model = lstm(X, y_measure)"
      ],
      "metadata": {
        "colab": {
          "base_uri": "https://localhost:8080/"
        },
        "id": "eAzLewQYH2_n",
        "outputId": "6d2798a4-1a1c-4275-8a7c-5f88f7d8f547"
      },
      "execution_count": null,
      "outputs": [
        {
          "output_type": "stream",
          "name": "stdout",
          "text": [
            "Epoch 1/5\n",
            "125/125 [==============================] - 5s 22ms/step - loss: 0.3612 - mean_squared_error: 0.3612 - val_loss: 0.0774 - val_mean_squared_error: 0.0774\n",
            "Epoch 2/5\n",
            "125/125 [==============================] - 3s 21ms/step - loss: 0.1457 - mean_squared_error: 0.1457 - val_loss: 0.0828 - val_mean_squared_error: 0.0828\n",
            "Epoch 3/5\n",
            "125/125 [==============================] - 2s 20ms/step - loss: 0.1375 - mean_squared_error: 0.1375 - val_loss: 0.0884 - val_mean_squared_error: 0.0884\n",
            "Epoch 4/5\n",
            "125/125 [==============================] - 2s 18ms/step - loss: 0.1220 - mean_squared_error: 0.1220 - val_loss: 0.0785 - val_mean_squared_error: 0.0785\n",
            "Epoch 5/5\n",
            "125/125 [==============================] - 2s 18ms/step - loss: 0.1190 - mean_squared_error: 0.1190 - val_loss: 0.0779 - val_mean_squared_error: 0.0779\n"
          ]
        }
      ]
    },
    {
      "cell_type": "code",
      "source": [
        "''' RUN THIS CELL '''\n",
        "# Data set for testing LSTM models\n",
        "new_pats = generate_patients(100)\n",
        "test_wide_data, _ = generate_longitudinal_dataset(new_pats, TOTAL_OBS_PERIOD, MEASUREMENT_INTERVAL)\n",
        "test_wide_time, test_wide_target = minmax.fit_transform(test_wide_data[:, 5:-1]), test_wide_data[:, -1].reshape(-1, 1)\n",
        "test_wide_time.shape, test_wide_target.shape"
      ],
      "metadata": {
        "colab": {
          "base_uri": "https://localhost:8080/"
        },
        "id": "BVkWOyk3hueE",
        "outputId": "7056280b-c31d-4475-a595-fe41749fbb2c"
      },
      "execution_count": null,
      "outputs": [
        {
          "output_type": "execute_result",
          "data": {
            "text/plain": [
              "((100, 19), (100, 1))"
            ]
          },
          "metadata": {},
          "execution_count": 24
        }
      ]
    },
    {
      "cell_type": "code",
      "source": [
        "''' RUN THIS CELL '''\n",
        "\n",
        "adam_predictions = []\n",
        "\n",
        "for test in test_wide_time:\n",
        "    adam_prediction = adam_model.model.predict(test.reshape((len(test), 1)))\n",
        "    #adam_prediction = log_model.model.predict(test.reshape((len(test), 1)))\n",
        "    adam_predictions = np.append(adam_predictions, adam_prediction)\n",
        "\n",
        "adam_predictions = adam_predictions.reshape(test_wide_time.shape)\n",
        "adam_mse = np.mean(np.square(test_wide_target - adam_predictions))\n",
        "# mae = np.mean(np.abs(test_wide_target - adam_predictions))\n",
        "print(f'Test MSE (Adam): {adam_mse}')\n",
        "#print(f'Test MAE (Adam): {mae}')"
      ],
      "metadata": {
        "colab": {
          "base_uri": "https://localhost:8080/"
        },
        "id": "4t7PMmiaihFV",
        "outputId": "537d1941-b3c1-4b44-bef3-2e0a66880346"
      },
      "execution_count": null,
      "outputs": [
        {
          "output_type": "stream",
          "name": "stdout",
          "text": [
            "WARNING:tensorflow:Model was constructed with shape (None, 19, 1) for input KerasTensor(type_spec=TensorSpec(shape=(None, 19, 1), dtype=tf.float32, name='lstm_6_input'), name='lstm_6_input', description=\"created by layer 'lstm_6_input'\"), but it was called on an input with incompatible shape (None, 1, 1).\n",
            "Test MSE (Adam): 0.4927668413291829\n"
          ]
        }
      ]
    },
    {
      "cell_type": "markdown",
      "source": [
        "# **Gradient boost w/ mixed effects (GPBoost)**"
      ],
      "metadata": {
        "id": "KdKu9diTd6he"
      }
    },
    {
      "cell_type": "markdown",
      "source": [
        "# **Sanity checks and visual inference**"
      ],
      "metadata": {
        "id": "OZkwRDhRHRcy"
      }
    },
    {
      "cell_type": "code",
      "source": [
        "# Sanity check for the piecewise biomarker model\n",
        "y = []\n",
        "patients = generate_patients(20)\n",
        "unit_time = np.arange(0, 1, 1 / (TOTAL_OBS_PERIOD / MEASUREMENT_INTERVAL))\n",
        "\n",
        "for pat in patients:\n",
        "    biomarker = [biomarker_truth_model(pat, time) for time in unit_time]\n",
        "    y = np.append(y, biomarker, axis = 0)\n",
        "y = y.reshape((20,20))\n",
        "\n",
        "for row in y:\n",
        "    plt.plot(unit_time, row)\n",
        "plt.title(\"Biomarker Piecewise Model\")\n",
        "plt.show()"
      ],
      "metadata": {
        "colab": {
          "base_uri": "https://localhost:8080/",
          "height": 281
        },
        "id": "cY8osdkynOVS",
        "outputId": "38244be4-f556-42f7-bad7-05edc88841a8"
      },
      "execution_count": null,
      "outputs": [
        {
          "output_type": "display_data",
          "data": {
            "text/plain": [
              "<Figure size 432x288 with 1 Axes>"
            ],
            "image/png": "[encoded data removed]"
          },
          "metadata": {
            "needs_background": "light"
          }
        }
      ]
    },
    {
      "cell_type": "code",
      "source": [
        "# Sanity check for patient generation\n",
        "patient_records.shape, patient_records[0:3]"
      ],
      "metadata": {
        "id": "r0azmqt_Hkjg",
        "colab": {
          "base_uri": "https://localhost:8080/"
        },
        "outputId": "1a42a555-dafd-4df3-cbe2-1954002de3d3"
      },
      "execution_count": null,
      "outputs": [
        {
          "output_type": "execute_result",
          "data": {
            "text/plain": [
              "((200,),\n",
              " array([<__main__.patient object at 0x7f10e0e182d0>, <__main__.patient object at 0x7f10e0e184d0>, <__main__.patient object at 0x7f10e0e18990>], dtype=object))"
            ]
          },
          "metadata": {},
          "execution_count": 66
        }
      ]
    },
    {
      "cell_type": "code",
      "source": [
        "# Sanity check for longitudinal data generation, and actual measurement times\n",
        "wide_data.shape, times.shape, wide_data[0,], times[0,]"
      ],
      "metadata": {
        "id": "rKV52ilqHqrY",
        "colab": {
          "base_uri": "https://localhost:8080/"
        },
        "outputId": "db4c6de3-0927-46e2-ffab-1d799137a4ac"
      },
      "execution_count": null,
      "outputs": [
        {
          "output_type": "execute_result",
          "data": {
            "text/plain": [
              "((200, 25),\n",
              " (200, 20),\n",
              " array([  1.        ,   1.        ,  24.        , 171.55038728,\n",
              "        211.47752043,   0.77024685,   0.48112397,   0.6090147 ,\n",
              "          0.57248582,   0.41930901,   0.51063309,   0.78562174,\n",
              "          0.55118942,   0.69398186,   0.76196866,   0.26049663,\n",
              "          0.66265857,   1.02220983,   0.61274116,   0.74392638,\n",
              "          1.03940445,   1.2094275 ,   1.29795537,   1.28649692,\n",
              "          0.96121006]),\n",
              " array([0.        , 0.05306233, 0.10537708, 0.15731663, 0.21030285,\n",
              "        0.26477571, 0.31674901, 0.37054105, 0.42189018, 0.47389041,\n",
              "        0.52624852, 0.58068368, 0.63315824, 0.6854417 , 0.73779992,\n",
              "        0.78907607, 0.84250562, 0.89512234, 0.94841726, 1.        ]))"
            ]
          },
          "metadata": {},
          "execution_count": 22
        }
      ]
    },
    {
      "cell_type": "code",
      "source": [
        "measure_samples = wide_data[0:50, 5:]\n",
        "time_sample = times[0:50, ]\n",
        "\n",
        "for measures, t in zip(measure_samples, time_sample):\n",
        "    plt.scatter(t, measures)\n",
        "\n",
        "plt.title('Sample of Clinical Measures')\n",
        "plt.plot(np.linspace(0, 1,num = 2))\n",
        "plt.show()"
      ],
      "metadata": {
        "id": "FiLZeJKuHuCM",
        "colab": {
          "base_uri": "https://localhost:8080/",
          "height": 281
        },
        "outputId": "52fda41a-c542-4749-fc34-72b369bc021c"
      },
      "execution_count": null,
      "outputs": [
        {
          "output_type": "display_data",
          "data": {
            "text/plain": [
              "<Figure size 432x288 with 1 Axes>"
            ],
            "image/png": "[encoded data removed]"
          },
          "metadata": {
            "needs_background": "light"
          }
        }
      ]
    },
    {
      "cell_type": "code",
      "source": [
        "for x, y in zip(Xlog[0:10, ], ylog[0:10]):\n",
        "    combined = np.append(x,y)\n",
        "    plt.plot(unit_time, combined)\n",
        "plt.show()\n",
        "# Has a slight increase but nothing substantial"
      ],
      "metadata": {
        "colab": {
          "base_uri": "https://localhost:8080/",
          "height": 265
        },
        "id": "McxcjPm8FDY7",
        "outputId": "0ec8fc0a-5d47-4b24-81b1-2503a0b7b61e"
      },
      "execution_count": null,
      "outputs": [
        {
          "output_type": "display_data",
          "data": {
            "text/plain": [
              "<Figure size 432x288 with 1 Axes>"
            ],
            "image/png": "[encoded data removed]"
          },
          "metadata": {
            "needs_background": "light"
          }
        }
      ]
    },
    {
      "cell_type": "markdown",
      "source": [
        "# **Playground**"
      ],
      "metadata": {
        "id": "hGocuxznoiE6"
      }
    },
    {
      "cell_type": "code",
      "source": [
        "patient_records = generate_patients(10)\n",
        "wide_data, times = generate_longitudinal_dataset(patient_records, TOTAL_OBS_PERIOD, MEASUREMENT_INTERVAL)"
      ],
      "metadata": {
        "id": "Ee52hRLkohV3"
      },
      "execution_count": null,
      "outputs": []
    },
    {
      "cell_type": "code",
      "source": [
        "test_vec = np.array([[1,2,3,6,5],\n",
        "                     [1,2,6,4,0],\n",
        "                     [1,3,3,10,3],\n",
        "                     [1,0,2,1,8]])\n",
        "\n",
        "np.mean(test_vec, axis = 0)"
      ],
      "metadata": {
        "colab": {
          "base_uri": "https://localhost:8080/"
        },
        "id": "jm4RfSqRpSci",
        "outputId": "6c0c4d50-7773-4ea1-dfce-d3cea67faf41"
      },
      "execution_count": null,
      "outputs": [
        {
          "output_type": "execute_result",
          "data": {
            "text/plain": [
              "array([1.  , 1.75, 3.5 , 5.25, 4.  ])"
            ]
          },
          "metadata": {},
          "execution_count": 16
        }
      ]
    },
    {
      "cell_type": "code",
      "source": [
        "# Columns in wide_data: 0: patient_id, 1: gender, 2: age, 3: height, 4: weight, 5+: [times...]\n",
        "measurements = wide_data[:, 5:]\n",
        "mmeans = np.mean(measurements, axis = 0)\n",
        "y_diffed = measurements - mmeans.reshape((1, -1))\n",
        "corr = np.corrcoef(measurements, rowvar = False)"
      ],
      "metadata": {
        "id": "LugSbDqnp4pw"
      },
      "execution_count": null,
      "outputs": []
    },
    {
      "cell_type": "code",
      "source": [
        "plt.scatter(times[0,:], measurements[0,:])\n",
        "plt.scatter(times[0,:], y_diffed[0,:])\n",
        "plt.show()\n",
        "corr.round(2)\n"
      ],
      "metadata": {
        "colab": {
          "base_uri": "https://localhost:8080/",
          "height": 622
        },
        "id": "r1rWcxdSrkHE",
        "outputId": "25e08c27-41c5-4ce3-8d3e-dec1846433f8"
      },
      "execution_count": null,
      "outputs": [
        {
          "output_type": "display_data",
          "data": {
            "text/plain": [
              "<Figure size 432x288 with 1 Axes>"
            ],
            "image/png": "[encoded data removed]"
          },
          "metadata": {
            "needs_background": "light"
          }
        },
        {
          "output_type": "execute_result",
          "data": {
            "text/plain": [
              "array([[1, 0.07, 0.35, 0.45, -0.04, 0.24, -0.4, 0.37, -0.66, -0.5, 0.41, 0, 0.39, 0.51, -0.06, -0.31, -0.06, -0.81, 0.21, -0.49],\n",
              "       [0.07, 1, 0.3, 0.4, 0.37, -0.22, -0.35, 0.34, -0, -0.16, 0.44, 0.17, 0.23, 0.02, 0.17, 0.05, 0.38, 0.19, 0.15, 0.25],\n",
              "       [0.35, 0.3, 1, 0.52, 0.51, 0.29, -0.08, -0.27, -0.22, 0.19, -0.22, 0.06, 0.32, 0.67, 0.27, 0.2, -0.02, -0.33, -0.09, -0.03],\n",
              "       [0.45, 0.4, 0.52, 1, 0.54, -0.3, -0.19, 0.01, -0.18, 0.36, 0.26, -0.22, -0.08, 0.36, -0.46, -0.54, -0.2, 0.04, -0.48, 0.1],\n",
              "       [-0.04, 0.37, 0.51, 0.54, 1, -0.19, -0.42, -0.07, 0.32, 0.35, -0.08, 0.37, 0.39, 0.58, -0.2, -0.23, 0.49, 0.3, -0.17, 0.25],\n",
              "       [0.24, -0.22, 0.29, -0.3, -0.19, 1, 0.33, -0.05, -0.04, -0.42, -0.42, -0.26, 0.15, 0.27, 0.77, 0.56, 0.04, -0.63, 0.37, -0.26],\n",
              "       [-0.4, -0.35, -0.08, -0.19, -0.42, 0.33, 1, -0.37, 0.05, 0.29, -0.3, -0.66, -0.72, -0.49, 0.31, 0.2, -0.66, 0.18, -0.52, 0.26],\n",
              "       [0.37, 0.34, -0.27, 0.01, -0.07, -0.05, -0.37, 1, -0.51, -0.69, 0.69, 0.39, 0.17, -0.21, -0.08, -0.39, 0.15, -0.24, 0.32, 0.31],\n",
              "       [-0.66, -0, -0.22, -0.18, 0.32, -0.04, 0.05, -0.51, 1, 0.46, -0.57, -0.19, -0.08, -0.02, 0.04, 0.35, 0.46, 0.61, 0.04, -0.02],\n",
              "       [-0.5, -0.16, 0.19, 0.36, 0.35, -0.42, 0.29, -0.69, 0.46, 1, -0.49, -0.32, -0.48, -0.04, -0.45, -0.07, -0.34, 0.63, -0.65, 0.26],\n",
              "       [0.41, 0.44, -0.22, 0.26, -0.08, -0.42, -0.3, 0.69, -0.57, -0.49, 1, 0.27, 0.14, -0.17, -0.24, -0.64, 0.02, -0.06, -0.08, 0.08],\n",
              "       [0, 0.17, 0.06, -0.22, 0.37, -0.26, -0.66, 0.39, -0.19, -0.32, 0.27, 1, 0.66, 0.3, -0.04, -0.14, 0.56, -0.01, 0.34, 0.16],\n",
              "       [0.39, 0.23, 0.32, -0.08, 0.39, 0.15, -0.72, 0.17, -0.08, -0.48, 0.14, 0.66, 1, 0.64, 0.2, 0.14, 0.75, -0.45, 0.64, -0.48],\n",
              "       [0.51, 0.02, 0.67, 0.36, 0.58, 0.27, -0.49, -0.21, -0.02, -0.04, -0.17, 0.3, 0.64, 1, 0.12, -0.02, 0.42, -0.41, 0.13, -0.41],\n",
              "       [-0.06, 0.17, 0.27, -0.46, -0.2, 0.77, 0.31, -0.08, 0.04, -0.45, -0.24, -0.04, 0.2, 0.12, 1, 0.74, 0.24, -0.31, 0.38, -0.09],\n",
              "       [-0.31, 0.05, 0.2, -0.54, -0.23, 0.56, 0.2, -0.39, 0.35, -0.07, -0.64, -0.14, 0.14, -0.02, 0.74, 1, 0.21, -0.16, 0.55, -0.22],\n",
              "       [-0.06, 0.38, -0.02, -0.2, 0.49, 0.04, -0.66, 0.15, 0.46, -0.34, 0.02, 0.56, 0.75, 0.42, 0.24, 0.21, 1, 0.07, 0.59, -0.21],\n",
              "       [-0.81, 0.19, -0.33, 0.04, 0.3, -0.63, 0.18, -0.24, 0.61, 0.63, -0.06, -0.01, -0.45, -0.41, -0.31, -0.16, 0.07, 1, -0.5, 0.57],\n",
              "       [0.21, 0.15, -0.09, -0.48, -0.17, 0.37, -0.52, 0.32, 0.04, -0.65, -0.08, 0.34, 0.64, 0.13, 0.38, 0.55, 0.59, -0.5, 1, -0.42],\n",
              "       [-0.49, 0.25, -0.03, 0.1, 0.25, -0.26, 0.26, 0.31, -0.02, 0.26, 0.08, 0.16, -0.48, -0.41, -0.09, -0.22, -0.21, 0.57, -0.42, 1]])"
            ]
          },
          "metadata": {},
          "execution_count": 15
        }
      ]
    },
    {
      "cell_type": "markdown",
      "source": [
        "**Test 1: Only scaling current predictor**"
      ],
      "metadata": {
        "id": "e0QWT9FAxfUh"
      }
    },
    {
      "cell_type": "code",
      "source": [
        "measurements.shape, times.shape"
      ],
      "metadata": {
        "colab": {
          "base_uri": "https://localhost:8080/"
        },
        "id": "DZBQ2Fpeyrbd",
        "outputId": "69ea09d8-217b-472a-8833-2bfb54624a8b"
      },
      "execution_count": null,
      "outputs": [
        {
          "output_type": "execute_result",
          "data": {
            "text/plain": [
              "((10, 20), (10, 20))"
            ]
          },
          "metadata": {},
          "execution_count": 16
        }
      ]
    },
    {
      "cell_type": "code",
      "source": [
        "beta = []\n",
        "i, j = -1,0\n",
        "\n",
        "# Transposing will give you all the patient measurements for a specific time\n",
        "for y, t in zip(y_diffed.T, times.T):\n",
        "    lm = sk.linear_model.LinearRegression(fit_intercept=False)\n",
        "    model = lm.fit(t.reshape(-1, 1), y.reshape(-1, 1))\n",
        "    if i == -1: \n",
        "        beta = np.append(beta, model.coef_)\n",
        "        i, j = 0, 1\n",
        "\n",
        "    else: \n",
        "        beta = np.append(beta, corr[i, j]*model.coef_)\n",
        "        print(f\"Correlation({i + 1}, {j + 1}): {corr[i, j]}, Beta: {model.coef_}\")\n",
        "        i+= 1; j += 1"
      ],
      "metadata": {
        "colab": {
          "base_uri": "https://localhost:8080/"
        },
        "id": "4XMADYMsxXLe",
        "outputId": "c6ed867a-7754-481d-8e93-204972a8000a"
      },
      "execution_count": null,
      "outputs": [
        {
          "output_type": "stream",
          "name": "stdout",
          "text": [
            "Correlation(1, 2): 0.07253697796681835, Beta: [[-0.0391]]\n",
            "Correlation(2, 3): 0.29884508510099106, Beta: [[-0.000578]]\n",
            "Correlation(3, 4): 0.5177542175173117, Beta: [[0.00206]]\n",
            "Correlation(4, 5): 0.537005276285886, Beta: [[-0.00156]]\n",
            "Correlation(5, 6): -0.18899410415984086, Beta: [[-0.000118]]\n",
            "Correlation(6, 7): 0.33065718540973005, Beta: [[0.00258]]\n",
            "Correlation(7, 8): -0.37297175791030673, Beta: [[0.000412]]\n",
            "Correlation(8, 9): -0.5061834352679996, Beta: [[-0.00024]]\n",
            "Correlation(9, 10): 0.45584266118381817, Beta: [[-0.000149]]\n",
            "Correlation(10, 11): -0.4941582868959325, Beta: [[0.000506]]\n",
            "Correlation(11, 12): 0.2721848032298092, Beta: [[-0.00013]]\n",
            "Correlation(12, 13): 0.6580777148144572, Beta: [[-0.000113]]\n",
            "Correlation(13, 14): 0.6362423025851807, Beta: [[-0.000238]]\n",
            "Correlation(14, 15): 0.12170829623793972, Beta: [[-0.000154]]\n",
            "Correlation(15, 16): 0.7357573351656529, Beta: [[-0.000124]]\n",
            "Correlation(16, 17): 0.21238936340285436, Beta: [[-0.000104]]\n",
            "Correlation(17, 18): 0.0668229825265093, Beta: [[0.000144]]\n",
            "Correlation(18, 19): -0.5023771849468508, Beta: [[-0.0001]]\n",
            "Correlation(19, 20): -0.4212829570229899, Beta: [[6.55e-17]]\n"
          ]
        }
      ]
    },
    {
      "cell_type": "code",
      "source": [
        "beta"
      ],
      "metadata": {
        "colab": {
          "base_uri": "https://localhost:8080/"
        },
        "id": "1YlgPkOX4c0J",
        "outputId": "5db9d0fd-9dd2-491f-cccd-8c9ceffce929"
      },
      "execution_count": null,
      "outputs": [
        {
          "output_type": "execute_result",
          "data": {
            "text/plain": [
              "array([-84.2, -0.00283, -0.000173, 0.00107, -0.000838, 2.22e-05, 0.000853, -0.000154, 0.000121, -6.81e-05, -0.00025, -3.55e-05, -7.46e-05, -0.000151, -1.87e-05, -9.1e-05, -2.21e-05, 9.62e-06, 5.03e-05, -2.76e-17])"
            ]
          },
          "metadata": {},
          "execution_count": 58
        }
      ]
    },
    {
      "cell_type": "code",
      "source": [
        "test_patients = generate_patients(5)\n",
        "twd, t2 = generate_longitudinal_dataset(test_patients, TOTAL_OBS_PERIOD, MEASUREMENT_INTERVAL)\n",
        "measurements2 = twd[:, 5:]\n",
        "mmeans2 = np.mean(measurements2,  axis = 0)\n",
        "y_diffed_test = measurements2 - mmeans2.reshape((1, -1))"
      ],
      "metadata": {
        "id": "1pjyn_wV6mtP"
      },
      "execution_count": null,
      "outputs": []
    },
    {
      "cell_type": "code",
      "source": [
        "vals = []\n",
        "dist = []\n",
        "\n",
        "for y, t in zip(y_diffed_test, t2):\n",
        "    temp = beta*t\n",
        "    vals = np.append(vals, temp)\n",
        "    dist = np.append(dist, y - temp)\n",
        "\n",
        "vals = vals.reshape((5, 20))\n",
        "print(vals)"
      ],
      "metadata": {
        "colab": {
          "base_uri": "https://localhost:8080/"
        },
        "id": "7suRhF-O7A1E",
        "outputId": "6889755d-b192-4909-92f4-927d1fa84dd6"
      },
      "execution_count": null,
      "outputs": [
        {
          "output_type": "stream",
          "name": "stdout",
          "text": [
            "[[-0.0814 -0.000146 -1.83e-05 0.000168 -0.000175 5.86e-06 0.000269 -5.66e-05 5.09e-05 -3.21e-05 -0.000131 -2.05e-05 -4.7e-05 -0.000103 -1.38e-05 -7.18e-05 -1.85e-05 8.59e-06 4.76e-05 -2.76e-17]\n",
            " [-0.00792 -0.00015 -1.82e-05 0.00017 -0.000176 5.82e-06 0.00027 -5.66e-05 5.11e-05 -3.23e-05 -0.000131 -2.05e-05 -4.71e-05 -0.000103 -1.38e-05 -7.18e-05 -1.86e-05 8.58e-06 4.77e-05 -2.76e-17]\n",
            " [-0 -0.000147 -1.84e-05 0.000166 -0.000177 5.87e-06 0.00027 -5.65e-05 5.12e-05 -3.22e-05 -0.000132 -2.06e-05 -4.72e-05 -0.000104 -1.38e-05 -7.2e-05 -1.86e-05 8.6e-06 4.78e-05 -2.76e-17]\n",
            " [-0 -0.00015 -1.83e-05 0.000169 -0.000177 5.89e-06 0.00027 -5.64e-05 5.1e-05 -3.23e-05 -0.000131 -2.05e-05 -4.71e-05 -0.000104 -1.38e-05 -7.18e-05 -1.86e-05 8.59e-06 4.76e-05 -2.76e-17]\n",
            " [-0 -0.00015 -1.8e-05 0.00017 -0.000175 5.88e-06 0.000269 -5.68e-05 5.11e-05 -3.23e-05 -0.000132 -2.05e-05 -4.71e-05 -0.000104 -1.38e-05 -7.17e-05 -1.86e-05 8.61e-06 4.76e-05 -2.76e-17]]\n"
          ]
        }
      ]
    },
    {
      "cell_type": "code",
      "source": [
        "plt.scatter(t2[0,:], measurements2[0, :])\n",
        "plt.show()"
      ],
      "metadata": {
        "colab": {
          "base_uri": "https://localhost:8080/",
          "height": 265
        },
        "id": "f4OPf-hv8f3b",
        "outputId": "b3c62178-92ca-4609-8a1b-d8666ca19678"
      },
      "execution_count": null,
      "outputs": [
        {
          "output_type": "display_data",
          "data": {
            "text/plain": [
              "<Figure size 432x288 with 1 Axes>"
            ],
            "image/png": "[encoded data removed]"
          },
          "metadata": {
            "needs_background": "light"
          }
        }
      ]
    },
    {
      "cell_type": "code",
      "source": [
        "plt.hist(measurements2[0, :], 3)"
      ],
      "metadata": {
        "colab": {
          "base_uri": "https://localhost:8080/",
          "height": 319
        },
        "id": "BOJrzDJdCkWA",
        "outputId": "15d9668a-8a1c-40f2-dd67-d6690277a79f"
      },
      "execution_count": null,
      "outputs": [
        {
          "output_type": "execute_result",
          "data": {
            "text/plain": [
              "(array([9, 8, 3]),\n",
              " array([0.232, 0.639, 1.05, 1.45]),\n",
              " <a list of 3 Patch objects>)"
            ]
          },
          "metadata": {},
          "execution_count": 76
        },
        {
          "output_type": "display_data",
          "data": {
            "text/plain": [
              "<Figure size 432x288 with 1 Axes>"
            ],
            "image/png": "[encoded data removed]"
          },
          "metadata": {
            "needs_background": "light"
          }
        }
      ]
    },
    {
      "cell_type": "code",
      "source": [
        "data = grunfeld.load_pandas().data\n",
        "data.head()"
      ],
      "metadata": {
        "colab": {
          "base_uri": "https://localhost:8080/",
          "height": 206
        },
        "id": "NbbFiEkQAdak",
        "outputId": "19734d46-f52b-4da4-cfe3-8d9e956631d5"
      },
      "execution_count": null,
      "outputs": [
        {
          "output_type": "execute_result",
          "data": {
            "text/plain": [
              "   invest   value  capital            firm    year\n",
              "0   317.6  3078.5      2.8  General Motors  1935.0\n",
              "1   391.8  4661.7     52.6  General Motors  1936.0\n",
              "2   410.6  5387.1    156.9  General Motors  1937.0\n",
              "3   257.7  2792.2    209.2  General Motors  1938.0\n",
              "4   330.8  4313.2    203.4  General Motors  1939.0"
            ],
            "text/html": [
              "\n",
              "  <div id=\"df-99acde8b-88ac-4bda-a139-10ac922f16c3\">\n",
              "    <div class=\"colab-df-container\">\n",
              "      <div>\n",
              "<style scoped>\n",
              "    .dataframe tbody tr th:only-of-type {\n",
              "        vertical-align: middle;\n",
              "    }\n",
              "\n",
              "    .dataframe tbody tr th {\n",
              "        vertical-align: top;\n",
              "    }\n",
              "\n",
              "    .dataframe thead th {\n",
              "        text-align: right;\n",
              "    }\n",
              "</style>\n",
              "<table border=\"1\" class=\"dataframe\">\n",
              "  <thead>\n",
              "    <tr style=\"text-align: right;\">\n",
              "      <th></th>\n",
              "      <th>invest</th>\n",
              "      <th>value</th>\n",
              "      <th>capital</th>\n",
              "      <th>firm</th>\n",
              "      <th>year</th>\n",
              "    </tr>\n",
              "  </thead>\n",
              "  <tbody>\n",
              "    <tr>\n",
              "      <th>0</th>\n",
              "      <td>317.6</td>\n",
              "      <td>3078.5</td>\n",
              "      <td>2.8</td>\n",
              "      <td>General Motors</td>\n",
              "      <td>1935.0</td>\n",
              "    </tr>\n",
              "    <tr>\n",
              "      <th>1</th>\n",
              "      <td>391.8</td>\n",
              "      <td>4661.7</td>\n",
              "      <td>52.6</td>\n",
              "      <td>General Motors</td>\n",
              "      <td>1936.0</td>\n",
              "    </tr>\n",
              "    <tr>\n",
              "      <th>2</th>\n",
              "      <td>410.6</td>\n",
              "      <td>5387.1</td>\n",
              "      <td>156.9</td>\n",
              "      <td>General Motors</td>\n",
              "      <td>1937.0</td>\n",
              "    </tr>\n",
              "    <tr>\n",
              "      <th>3</th>\n",
              "      <td>257.7</td>\n",
              "      <td>2792.2</td>\n",
              "      <td>209.2</td>\n",
              "      <td>General Motors</td>\n",
              "      <td>1938.0</td>\n",
              "    </tr>\n",
              "    <tr>\n",
              "      <th>4</th>\n",
              "      <td>330.8</td>\n",
              "      <td>4313.2</td>\n",
              "      <td>203.4</td>\n",
              "      <td>General Motors</td>\n",
              "      <td>1939.0</td>\n",
              "    </tr>\n",
              "  </tbody>\n",
              "</table>\n",
              "</div>\n",
              "      <button class=\"colab-df-convert\" onclick=\"convertToInteractive('df-99acde8b-88ac-4bda-a139-10ac922f16c3')\"\n",
              "              title=\"Convert this dataframe to an interactive table.\"\n",
              "              style=\"display:none;\">\n",
              "        \n",
              "  <svg xmlns=\"http://www.w3.org/2000/svg\" height=\"24px\"viewBox=\"0 0 24 24\"\n",
              "       width=\"24px\">\n",
              "    <path d=\"M0 0h24v24H0V0z\" fill=\"none\"/>\n",
              "    <path d=\"M18.56 5.44l.94 2.06.94-2.06 2.06-.94-2.06-.94-.94-2.06-.94 2.06-2.06.94zm-11 1L8.5 8.5l.94-2.06 2.06-.94-2.06-.94L8.5 2.5l-.94 2.06-2.06.94zm10 10l.94 2.06.94-2.06 2.06-.94-2.06-.94-.94-2.06-.94 2.06-2.06.94z\"/><path d=\"M17.41 7.96l-1.37-1.37c-.4-.4-.92-.59-1.43-.59-.52 0-1.04.2-1.43.59L10.3 9.45l-7.72 7.72c-.78.78-.78 2.05 0 2.83L4 21.41c.39.39.9.59 1.41.59.51 0 1.02-.2 1.41-.59l7.78-7.78 2.81-2.81c.8-.78.8-2.07 0-2.86zM5.41 20L4 18.59l7.72-7.72 1.47 1.35L5.41 20z\"/>\n",
              "  </svg>\n",
              "      </button>\n",
              "      \n",
              "  <style>\n",
              "    .colab-df-container {\n",
              "      display:flex;\n",
              "      flex-wrap:wrap;\n",
              "      gap: 12px;\n",
              "    }\n",
              "\n",
              "    .colab-df-convert {\n",
              "      background-color: #E8F0FE;\n",
              "      border: none;\n",
              "      border-radius: 50%;\n",
              "      cursor: pointer;\n",
              "      display: none;\n",
              "      fill: #1967D2;\n",
              "      height: 32px;\n",
              "      padding: 0 0 0 0;\n",
              "      width: 32px;\n",
              "    }\n",
              "\n",
              "    .colab-df-convert:hover {\n",
              "      background-color: #E2EBFA;\n",
              "      box-shadow: 0px 1px 2px rgba(60, 64, 67, 0.3), 0px 1px 3px 1px rgba(60, 64, 67, 0.15);\n",
              "      fill: #174EA6;\n",
              "    }\n",
              "\n",
              "    [theme=dark] .colab-df-convert {\n",
              "      background-color: #3B4455;\n",
              "      fill: #D2E3FC;\n",
              "    }\n",
              "\n",
              "    [theme=dark] .colab-df-convert:hover {\n",
              "      background-color: #434B5C;\n",
              "      box-shadow: 0px 1px 3px 1px rgba(0, 0, 0, 0.15);\n",
              "      filter: drop-shadow(0px 1px 2px rgba(0, 0, 0, 0.3));\n",
              "      fill: #FFFFFF;\n",
              "    }\n",
              "  </style>\n",
              "\n",
              "      <script>\n",
              "        const buttonEl =\n",
              "          document.querySelector('#df-99acde8b-88ac-4bda-a139-10ac922f16c3 button.colab-df-convert');\n",
              "        buttonEl.style.display =\n",
              "          google.colab.kernel.accessAllowed ? 'block' : 'none';\n",
              "\n",
              "        async function convertToInteractive(key) {\n",
              "          const element = document.querySelector('#df-99acde8b-88ac-4bda-a139-10ac922f16c3');\n",
              "          const dataTable =\n",
              "            await google.colab.kernel.invokeFunction('convertToInteractive',\n",
              "                                                     [key], {});\n",
              "          if (!dataTable) return;\n",
              "\n",
              "          const docLinkHtml = 'Like what you see? Visit the ' +\n",
              "            '<a target=\"_blank\" href=https://colab.research.google.com/notebooks/data_table.ipynb>data table notebook</a>'\n",
              "            + ' to learn more about interactive tables.';\n",
              "          element.innerHTML = '';\n",
              "          dataTable['output_type'] = 'display_data';\n",
              "          await google.colab.output.renderOutput(dataTable, element);\n",
              "          const docLink = document.createElement('div');\n",
              "          docLink.innerHTML = docLinkHtml;\n",
              "          element.appendChild(docLink);\n",
              "        }\n",
              "      </script>\n",
              "    </div>\n",
              "  </div>\n",
              "  "
            ]
          },
          "metadata": {},
          "execution_count": 25
        }
      ]
    },
    {
      "cell_type": "code",
      "source": [
        "long_data = wide_to_long(wide_data, times)\n",
        "long_df = pd.DataFrame(long_data[0:-1, :], columns = ['patientid', 'gender', 'age', 'height', 'weight', 'unittime', 'biomarker'])\n",
        "targets = long_df['biomarker'].shift(-1).iloc[0:-1]\n",
        "targets = targets.rename('targets')\n",
        "long_df = pd.concat([long_df, targets], axis = 1)\n",
        "targets.head()"
      ],
      "metadata": {
        "colab": {
          "base_uri": "https://localhost:8080/"
        },
        "id": "eOtVrlWzCg59",
        "outputId": "76094518-0d55-4298-e6de-987623a6609c"
      },
      "execution_count": null,
      "outputs": [
        {
          "output_type": "execute_result",
          "data": {
            "text/plain": [
              "0    0.429136\n",
              "1    0.431950\n",
              "2    0.676303\n",
              "3    0.372590\n",
              "4    0.406419\n",
              "Name: targets, dtype: float64"
            ]
          },
          "metadata": {},
          "execution_count": 66
        }
      ]
    },
    {
      "cell_type": "code",
      "source": [
        "long_df.head(), long_df.shape"
      ],
      "metadata": {
        "colab": {
          "base_uri": "https://localhost:8080/"
        },
        "id": "S5enWo5cCiW6",
        "outputId": "636f3d2a-85c6-4ed6-d939-c2ecbfbaacf0"
      },
      "execution_count": null,
      "outputs": [
        {
          "output_type": "execute_result",
          "data": {
            "text/plain": [
              "(   patientid  gender   age      height      weight  unittime  biomarker  \\\n",
              " 0        1.0     1.0  30.0  169.962231  200.742919  0.000365   0.489171   \n",
              " 1        1.0     1.0  30.0  169.962231  200.742919  0.052422   0.429136   \n",
              " 2        1.0     1.0  30.0  169.962231  200.742919  0.105034   0.431950   \n",
              " 3        1.0     1.0  30.0  169.962231  200.742919  0.157900   0.676303   \n",
              " 4        1.0     1.0  30.0  169.962231  200.742919  0.210942   0.372590   \n",
              " \n",
              "     targets  \n",
              " 0  0.429136  \n",
              " 1  0.431950  \n",
              " 2  0.676303  \n",
              " 3  0.372590  \n",
              " 4  0.406419  , (3999, 8))"
            ]
          },
          "metadata": {},
          "execution_count": 72
        }
      ]
    },
    {
      "cell_type": "code",
      "source": [
        "gp_model = gpb.GPModel(group_data=long_df[['patientid', 'unittime']])\n",
        "data_train = gpb.Dataset(data=long_df['biomarker'].values.reshape((-1,1)), label=long_df['targets'].values)\n",
        "long_df['targets'].shape, long_df['biomarker'].shape"
      ],
      "metadata": {
        "colab": {
          "base_uri": "https://localhost:8080/"
        },
        "id": "G0BPljcLC1iD",
        "outputId": "78a5a24b-a1e5-4c8b-902f-e11d897754c6"
      },
      "execution_count": null,
      "outputs": [
        {
          "output_type": "execute_result",
          "data": {
            "text/plain": [
              "((3999,), (3999,))"
            ]
          },
          "metadata": {},
          "execution_count": 86
        }
      ]
    },
    {
      "cell_type": "code",
      "source": [
        "params = { 'objective': 'regression_l2',\n",
        "            'learning_rate': 0.005,\n",
        "            'max_depth': 6,\n",
        "            'min_data_in_leaf': 1,\n",
        "            'verbose': 1}\n",
        "# Train GPBoost model\n",
        "bst = gpb.train(params=params,\n",
        "                train_set=data_train,\n",
        "                gp_model=gp_model,\n",
        "                num_boost_round=500)\n",
        "# Estimated random effects model (variances of random effects)\n",
        "cvbst = gpb.cv(params=params, \n",
        "               train_set=data_train,\n",
        "               gp_model=gp_model, \n",
        "               use_gp_model_for_validation=True,\n",
        "               num_boost_round=300, \n",
        "               early_stopping_rounds=5,\n",
        "               nfold=5, \n",
        "               verbose_eval=True, \n",
        "               show_stdv=False, \n",
        "               seed=42)\n",
        "gp_model.summary()"
      ],
      "metadata": {
        "colab": {
          "base_uri": "https://localhost:8080/"
        },
        "id": "wZENosuWL1rv",
        "outputId": "d4bf2d61-574b-4c75-a5b1-cb7ed98d02cc"
      },
      "execution_count": null,
      "outputs": [
        {
          "output_type": "stream",
          "name": "stdout",
          "text": [
            "[GPBoost] [Info] Total Bins 255\n",
            "[GPBoost] [Info] Number of data points in the train set: 3999, number of used features: 1\n",
            "[GPBoost] [Info] [GPBoost with gaussian likelihood]: initscore=0.716765\n",
            "[GPBoost] [Info] Start training from score 0.716765\n",
            "[GPBoost] [Info] Total Bins 255\n",
            "[GPBoost] [Info] Number of data points in the train set: 3196, number of used features: 1\n",
            "[GPBoost] [Info] Total Bins 255\n",
            "[GPBoost] [Info] Number of data points in the train set: 3196, number of used features: 1\n",
            "[GPBoost] [Info] Total Bins 255\n",
            "[GPBoost] [Info] Number of data points in the train set: 3196, number of used features: 1\n",
            "[GPBoost] [Info] Total Bins 255\n",
            "[GPBoost] [Info] Number of data points in the train set: 3196, number of used features: 1\n",
            "[GPBoost] [Info] Total Bins 255\n",
            "[GPBoost] [Info] Number of data points in the train set: 3196, number of used features: 1\n",
            "[1]\tcv_agg's l2: 0.106086\n",
            "[2]\tcv_agg's l2: 0.104909\n",
            "[3]\tcv_agg's l2: 0.103832\n",
            "[4]\tcv_agg's l2: 0.102803\n",
            "[5]\tcv_agg's l2: 0.10187\n",
            "[6]\tcv_agg's l2: 0.101\n",
            "[7]\tcv_agg's l2: 0.100193\n",
            "[8]\tcv_agg's l2: 0.0994467\n",
            "[9]\tcv_agg's l2: 0.0987585\n",
            "[10]\tcv_agg's l2: 0.0981379\n",
            "[11]\tcv_agg's l2: 0.0975808\n",
            "[12]\tcv_agg's l2: 0.0970649\n",
            "[13]\tcv_agg's l2: 0.0965998\n",
            "[14]\tcv_agg's l2: 0.0961858\n",
            "[15]\tcv_agg's l2: 0.0957835\n",
            "[16]\tcv_agg's l2: 0.0954355\n",
            "[17]\tcv_agg's l2: 0.0950957\n",
            "[18]\tcv_agg's l2: 0.0948121\n",
            "[19]\tcv_agg's l2: 0.0945514\n",
            "[20]\tcv_agg's l2: 0.0943211\n",
            "[21]\tcv_agg's l2: 0.0941029\n",
            "[22]\tcv_agg's l2: 0.0939122\n",
            "[23]\tcv_agg's l2: 0.0937257\n",
            "[24]\tcv_agg's l2: 0.0935906\n",
            "[25]\tcv_agg's l2: 0.0934644\n",
            "[26]\tcv_agg's l2: 0.093344\n",
            "[27]\tcv_agg's l2: 0.0932478\n",
            "[28]\tcv_agg's l2: 0.0931351\n",
            "[29]\tcv_agg's l2: 0.0930591\n",
            "[30]\tcv_agg's l2: 0.0929893\n",
            "[31]\tcv_agg's l2: 0.0929364\n",
            "[32]\tcv_agg's l2: 0.0928556\n",
            "[33]\tcv_agg's l2: 0.092799\n",
            "[34]\tcv_agg's l2: 0.0927404\n",
            "[35]\tcv_agg's l2: 0.0926778\n",
            "[36]\tcv_agg's l2: 0.0926657\n",
            "[37]\tcv_agg's l2: 0.0926399\n",
            "[38]\tcv_agg's l2: 0.0926204\n",
            "[39]\tcv_agg's l2: 0.0926012\n",
            "[40]\tcv_agg's l2: 0.092601\n",
            "[41]\tcv_agg's l2: 0.0925961\n",
            "[42]\tcv_agg's l2: 0.0925925\n",
            "[43]\tcv_agg's l2: 0.0925689\n",
            "[44]\tcv_agg's l2: 0.0925687\n",
            "[45]\tcv_agg's l2: 0.0925552\n",
            "[46]\tcv_agg's l2: 0.0925755\n",
            "[47]\tcv_agg's l2: 0.0925661\n",
            "[48]\tcv_agg's l2: 0.0925868\n",
            "[49]\tcv_agg's l2: 0.0925952\n",
            "[50]\tcv_agg's l2: 0.0926085\n",
            "Covariance parameters: \n",
            "        Error_term  patientid  unittime\n",
            "Param.    0.055078   0.000002  0.031922\n"
          ]
        },
        {
          "output_type": "execute_result",
          "data": {
            "text/plain": [
              "<gpboost.basic.GPModel at 0x7f83c9b33a90>"
            ]
          },
          "metadata": {},
          "execution_count": 91
        }
      ]
    },
    {
      "cell_type": "code",
      "source": [
        "print(\"Best number of iterations: \" + str(np.argmin(cvbst['l2-mean'])))"
      ],
      "metadata": {
        "colab": {
          "base_uri": "https://localhost:8080/"
        },
        "id": "w-uANHBQQGTz",
        "outputId": "15e3e44f-835f-40f0-a84c-6ed72a162400"
      },
      "execution_count": null,
      "outputs": [
        {
          "output_type": "stream",
          "name": "stdout",
          "text": [
            "Best number of iterations: 44\n"
          ]
        }
      ]
    },
    {
      "cell_type": "markdown",
      "source": [
        "# **LINSPACE >>>>>>>>>> ARANGE**\n",
        "Thank you for coming to my TED talk."
      ],
      "metadata": {
        "id": "g5oLrrjARUYS"
      }
    },
    {
      "cell_type": "code",
      "source": [
        "long_data = wide_to_long(wide_data, times)\n",
        "pid = pd.Categorical(long_data[:, 0]).reshape((-1,1))\n",
        "measurement_means = np.mean(wide_data[:, 5:], axis = 0)\n",
        "t_time = np.linspace(0, 1, num = 20)\n",
        "# Try with and without fitting intercept\n",
        "lm = sk.linear_model.LinearRegression(fit_intercept=False)\n",
        "lm_fit = lm.fit(measurement_means.reshape(-1, 1), t_time.reshape(-1, 1))\n",
        "targets = lm_fit.predict(long_data[:, 5].reshape(-1, 1))"
      ],
      "metadata": {
        "id": "fd2_q6P9N9HD"
      },
      "execution_count": null,
      "outputs": []
    },
    {
      "cell_type": "code",
      "source": [
        "lm_fit.coef_, lm_fit.intercept_"
      ],
      "metadata": {
        "colab": {
          "base_uri": "https://localhost:8080/"
        },
        "id": "MfufeCuoShmQ",
        "outputId": "24aaea22-d3db-445c-fbfd-e5231dde57eb"
      },
      "execution_count": null,
      "outputs": [
        {
          "output_type": "execute_result",
          "data": {
            "text/plain": [
              "(array([[0.749]]), 0.0)"
            ]
          },
          "metadata": {},
          "execution_count": 10
        }
      ]
    },
    {
      "cell_type": "code",
      "source": [
        "# Columns in long_data: 0: patient_id, 1: gender, 2: age, 3: height, 4: weight, 5: time, 6: measure\n",
        "X, y = long_data[:, 5:], targets.flatten()\n",
        "regr = make_pipeline(StandardScaler(),\n",
        "                    LinearSVR(C = 10000, random_state=0, tol=1e-5))\n",
        "regr.fit(X, y)"
      ],
      "metadata": {
        "colab": {
          "base_uri": "https://localhost:8080/"
        },
        "id": "rWQRf4bINk8o",
        "outputId": "63429a11-04f4-47cb-cd7e-37d17d93b2c7"
      },
      "execution_count": null,
      "outputs": [
        {
          "output_type": "execute_result",
          "data": {
            "text/plain": [
              "Pipeline(steps=[('standardscaler', StandardScaler()),\n",
              "                ('linearsvr', LinearSVR(C=10000, random_state=0, tol=1e-05))])"
            ]
          },
          "metadata": {},
          "execution_count": 16
        }
      ]
    },
    {
      "cell_type": "code",
      "source": [
        "test_patients = generate_patients(50)\n",
        "twd, t2 = generate_longitudinal_dataset(test_patients, TOTAL_OBS_PERIOD, MEASUREMENT_INTERVAL)\n",
        "long_test = wide_to_long(twd, t2)\n",
        "test_means = np.mean(twd[:, 5:], axis = 0)\n",
        "lm = sk.linear_model.LinearRegression(fit_intercept=False)\n",
        "lm_fit = lm.fit(test_means.reshape(-1, 1), t_time.reshape(-1, 1))\n",
        "test_targets = lm_fit.predict(long_test[:, 5].reshape(-1, 1))\n",
        "long_test.shape, test_targets.shape, twd.shape"
      ],
      "metadata": {
        "colab": {
          "base_uri": "https://localhost:8080/"
        },
        "id": "Zp3Uj3GLWM6a",
        "outputId": "f95d9453-11c9-4dce-f7e2-6979cd78fb37"
      },
      "execution_count": null,
      "outputs": [
        {
          "output_type": "execute_result",
          "data": {
            "text/plain": [
              "((1000, 7), (1000, 1), (50, 25))"
            ]
          },
          "metadata": {},
          "execution_count": 17
        }
      ]
    },
    {
      "cell_type": "code",
      "source": [
        "predictions = regr.predict(long_test[:, 5:])\n",
        "regr.score(long_test[:, 5:], test_targets.flatten())"
      ],
      "metadata": {
        "colab": {
          "base_uri": "https://localhost:8080/"
        },
        "id": "YO5ZlqY9XaNl",
        "outputId": "de8f7aab-b969-4de9-e110-b95baf6f9c25"
      },
      "execution_count": null,
      "outputs": [
        {
          "output_type": "execute_result",
          "data": {
            "text/plain": [
              "0.9999442434843769"
            ]
          },
          "metadata": {},
          "execution_count": 18
        }
      ]
    },
    {
      "cell_type": "code",
      "source": [
        "plt.plot(t2[0, :],predictions[0:20])\n",
        "plt.plot(t2[0, :],predictions[0:20] + 0.3)\n",
        "for i in range(10):\n",
        "    plt.scatter(t2[i, :], twd[i, 5:])\n",
        "plt.show()"
      ],
      "metadata": {
        "colab": {
          "base_uri": "https://localhost:8080/",
          "height": 265
        },
        "id": "lLybX7EZX9gV",
        "outputId": "505e5a5d-d0ea-4c5b-87ff-7186fed03b3f"
      },
      "execution_count": null,
      "outputs": [
        {
          "output_type": "display_data",
          "data": {
            "text/plain": [
              "<Figure size 432x288 with 1 Axes>"
            ],
            "image/png": "[encoded data removed]"
          },
          "metadata": {
            "needs_background": "light"
          }
        }
      ]
    },
    {
      "cell_type": "code",
      "source": [
        "long_test[0:20, 6]"
      ],
      "metadata": {
        "colab": {
          "base_uri": "https://localhost:8080/"
        },
        "id": "0PguNSr7ZYzm",
        "outputId": "6af14f80-e1f1-4402-9397-7e691c80f2c7"
      },
      "execution_count": null,
      "outputs": [
        {
          "output_type": "execute_result",
          "data": {
            "text/plain": [
              "array([0.231, 0.357, 0.201, 0.448, 0.11, 0.504, 0.566, 0.96, 0.43, 1.1, 0.561, 0.671, 0.662, 1.01, 0.824, 1.23, 1.3, 0.867, 0.891, 0.799])"
            ]
          },
          "metadata": {},
          "execution_count": 86
        }
      ]
    },
    {
      "cell_type": "code",
      "source": [
        "[i for i in range(10)]"
      ],
      "metadata": {
        "colab": {
          "base_uri": "https://localhost:8080/"
        },
        "id": "uiz0G3LgfQS4",
        "outputId": "a44138d4-6b63-4972-a054-6f86370bb1e7"
      },
      "execution_count": null,
      "outputs": [
        {
          "output_type": "execute_result",
          "data": {
            "text/plain": [
              "[0, 1, 2, 3, 4, 5, 6, 7, 8, 9]"
            ]
          },
          "metadata": {},
          "execution_count": 29
        }
      ]
    }
  ]
}