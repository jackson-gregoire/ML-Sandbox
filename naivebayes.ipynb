{
  "nbformat": 4,
  "nbformat_minor": 0,
  "metadata": {
    "colab": {
      "name": "naivebayes.ipynb",
      "provenance": [],
      "mount_file_id": "1ValDAiEFTmzNooPKoeaGv3NqTWUpeJFX",
      "authorship_tag": "ABX9TyNUjSc3ECKMuRgzWa5BDi1j",
      "include_colab_link": true
    },
    "kernelspec": {
      "name": "python3",
      "display_name": "Python 3"
    },
    "language_info": {
      "name": "python"
    }
  },
  "cells": [
    {
      "cell_type": "markdown",
      "metadata": {
        "id": "view-in-github",
        "colab_type": "text"
      },
      "source": [
        "<a href=\"https://colab.research.google.com/github/jackson-gregoire/MachineLearningLearning/blob/main/naivebayes.ipynb\" target=\"_parent\"><img src=\"https://colab.research.google.com/assets/colab-badge.svg\" alt=\"Open In Colab\"/></a>"
      ]
    },
    {
      "cell_type": "code",
      "source": [
        "import numpy as np\n",
        "import matplotlib.pyplot as plt"
      ],
      "metadata": {
        "id": "igAEUOMAPjqC"
      },
      "execution_count": 1,
      "outputs": []
    },
    {
      "cell_type": "code",
      "execution_count": null,
      "metadata": {
        "id": "KA5d4KbhMWwY"
      },
      "outputs": [],
      "source": [
        "# All of the data (classes are in the last column -- 101)\n",
        "train = np.loadtxt('/content/sample_data/training_data.txt')\n",
        "test = np.loadtxt('/content/sample_data/testing_data.txt')\n",
        "val = np.loadtxt('/content/sample_data/validation_data.txt')"
      ]
    },
    {
      "cell_type": "code",
      "source": [
        "# Feasture data for training, validation, and testing \n",
        "x_train = train[:,:-1]\n",
        "x_val = val[:,:-1]\n",
        "x_test = test[:,:-1]\n",
        "\n",
        "# Class/target data for training, validation, and testing\n",
        "y_train = train[:,-1]\n",
        "y_val = val[:,-1]\n",
        "y_test = test[:,-1]"
      ],
      "metadata": {
        "id": "G3WljNTga7qI"
      },
      "execution_count": null,
      "outputs": []
    },
    {
      "cell_type": "code",
      "source": [
        "'''\n",
        "  Using numerical estimation of priors from the data\n",
        "'''\n",
        "priors = np.array([np.mean(np.where(y_train == 1, 1, 0)), \n",
        "                   np.mean(np.where(y_train == 2, 1, 0))])\n",
        "feature_p = 1 - np.mean(x_train, axis = 0)\n",
        "predictions = []\n",
        "\n",
        "for x,y in zip(x_train, y_train):\n",
        "  pc1 = priors[0]\n",
        "  pc2 = priors[1]\n",
        "\n",
        "  for idx, val in enumerate(x):\n",
        "    pc1 *= feature_p[idx]**(1-val)*(1-feature_p[idx])**val\n",
        "    pc2 *= (1-feature_p[idx])**(1-val)*(feature_p[idx])**val\n",
        "\n",
        "  if pc1 > pc2: predictions.append(1)\n",
        "  else: predictions.append(2)\n",
        "\n",
        "accuracy = np.mean(np.where(predictions == y_train, 1, 0))\n",
        "print(f\"Accuracy: {accuracy*100}%\")"
      ],
      "metadata": {
        "colab": {
          "base_uri": "https://localhost:8080/"
        },
        "id": "AWCWvGcFcwoV",
        "outputId": "fd50dd8f-100d-493a-d19a-1138abefab35"
      },
      "execution_count": null,
      "outputs": [
        {
          "output_type": "stream",
          "name": "stdout",
          "text": [
            "Accuracy: 50.625%\n"
          ]
        }
      ]
    },
    {
      "cell_type": "code",
      "source": [
        "'''\n",
        "  Finding optimal sigma from validation data\n",
        "'''\n",
        "# Our hyperparameter for validation will be sigma (used in the prior formulation)\n",
        "sigma = np.arange(start = -5, stop = 6)\n",
        "val_acc = []\n",
        "feature_p = 1 - np.mean(x_val, axis = 0)\n",
        "\n",
        "# Finding best sigma on validation set\n",
        "for s in sigma:\n",
        "  priors = np.array([1/(1+np.e**(-s)), 1 - (1/(1+np.e**(-s)))])\n",
        "  predictions = []\n",
        "\n",
        "  for x,y in zip(x_val, y_val):\n",
        "    pc1 = priors[0]\n",
        "    pc2 = priors[1]\n",
        "\n",
        "    for idx, val in enumerate(x):\n",
        "      pc1 *= feature_p[idx]**(1-val)*(1-feature_p[idx])**val + 10**(-10)\n",
        "      pc2 *= (1-feature_p[idx])**(1-val)*(feature_p[idx])**val + 10**(-10)\n",
        "\n",
        "    if pc1 > pc2: predictions.append(1)\n",
        "    else: predictions.append(2)\n",
        "\n",
        "  accuracy = np.mean(np.where(predictions == y_val, 1, 0))\n",
        "  val_acc.append(accuracy)\n",
        "  print(f\"Accuracy for {s}: {accuracy*100}%\")\n",
        "\n",
        "print('-'*50)\n",
        "print(f'Highest validation accuracy: {np.max(val_acc)*100}%')"
      ],
      "metadata": {
        "colab": {
          "base_uri": "https://localhost:8080/"
        },
        "id": "LiDER5oZs9Di",
        "outputId": "b4faf1c1-5306-4068-8fc0-3643428610f6"
      },
      "execution_count": null,
      "outputs": [
        {
          "output_type": "stream",
          "name": "stdout",
          "text": [
            "Accuracy for -5: 54.0%\n",
            "Accuracy for -4: 54.0%\n",
            "Accuracy for -3: 54.0%\n",
            "Accuracy for -2: 54.0%\n",
            "Accuracy for -1: 54.0%\n",
            "Accuracy for 0: 54.0%\n",
            "Accuracy for 1: 54.0%\n",
            "Accuracy for 2: 54.0%\n",
            "Accuracy for 3: 54.0%\n",
            "Accuracy for 4: 54.0%\n",
            "Accuracy for 5: 54.0%\n",
            "--------------------------------------------------\n",
            "Highest validation accuracy: 54.0%\n"
          ]
        }
      ]
    },
    {
      "cell_type": "code",
      "source": [
        "'''\n",
        "  Training?\n",
        "'''\n",
        "feature_p = 1 - np.mean(x_train, axis = 0)\n",
        "predictions = []\n",
        "\n",
        "for x,y in zip(x_train, y_train):\n",
        "  pc1 = 1/(1+np.e)\n",
        "  pc2 = 1 - (1/(1+np.e))\n",
        "\n",
        "  for idx, val in enumerate(x):\n",
        "    pc1 *= feature_p[idx]**(1-val)*(1-feature_p[idx])**val\n",
        "    pc2 *= (1-feature_p[idx])**(1-val)*(feature_p[idx])**val\n",
        "\n",
        "  if pc1 > pc2: predictions.append(1)\n",
        "  else: predictions.append(2)\n"
      ],
      "metadata": {
        "id": "OEIMJr8P3f5B"
      },
      "execution_count": null,
      "outputs": []
    }
  ]
}